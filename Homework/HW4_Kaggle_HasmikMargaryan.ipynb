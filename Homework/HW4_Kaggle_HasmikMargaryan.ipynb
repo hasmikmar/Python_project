{
  "cells": [
    {
      "cell_type": "markdown",
      "metadata": {
        "id": "ouC6teuHmxmQ"
      },
      "source": [
        "Ստորև գրված առաջադրանքները կատարելու վերջնաժամկետը **15.05.2023 19:59** է։ Առաջադրանքները կատարելուց հետո, պետք է \n",
        "\n",
        "1. ներբեռնեք այս ֆայլը ձեր համակարգիչ (`File` $\\to$ `Download .ipynb`)\n",
        "2. վերնագրին ավելացնեք ձեր անուն, ազգանունը լատինատառ, օրինակ՝ *HW4_Kaggle_NshanPotikyan.ipynb* ֆորմատով\n",
        "3. ուղարկեք ֆայլը **nshan.potikyan@gmail.com** հասցեին` նամակի թեմա (subject) դաշտում գրելով **HA4**\n",
        "\n",
        "**Ուշադրություն**․ \n",
        "1. Վերոնշյալ պայմաններին չբավարարելու դեպքում ձեր աշխատանքը չի գնահատվի։\n",
        "2. Կրկնօրինակ լուծումների համար կստանաք 0 միավոր։\n"
      ]
    },
    {
      "cell_type": "markdown",
      "metadata": {
        "id": "QiQPmjJQ78fC"
      },
      "source": [
        "# Kaggle մրցույթ «Մաշտոց» հավաքածուի վրա\n",
        "\n",
        "Այս տնային առաջադրանքի նպատակը PyTorch գրադարանի օգնությամբ հայերեն ձեռագիր տառերը ճանաչող նեյրոնային ցանց ստեղծելն է։ \n",
        "Այդ նպատակին հասնելու համար պետք է իրականացնել հետևյալ քայլերը․\n",
        "\n",
        "* Այցելեք [մրցույթի էջը](https://www.kaggle.com/competitions/mashtots-dataset-v2/overview) և սեղմեք \"Join Competition\"\n",
        "\n",
        "* Ձեզնից կպահանջվի գրանցվել kaggle հարթակում, եթե դեռ չունեք գործող հաշիվ\n",
        "\n",
        "* Գրանցվելուց հետո պետք է ընդունեք մրցույթի կանոնները սեղմելով \"I understand and accept\" \n",
        "\n",
        "* \"Data\" կոչվող հատվածում կարող եք ծանոթանալ տվյալների հետ և ներբեռնել դրանք ձեր համակարգիչ կամ կարող եք օգտվել kaggle notebook-ից (շատ ավելի հարմար տարբերակ) և տվյալները ավելացնեք այնտեղ։ Վերջինիս մասին կարող եք կարդալ ավելին [այստեղ](https://www.kaggle.com/docs/notebooks):\n",
        "\n",
        "* Եթե չեք ուզում օգտվել kaggle notebook-ից, կարող եք վերբեռնել տվյալները Google Drive, և օգտագործել դրանք Colab միջավայրում Google Drive-ը mount անելուց հետո։\n",
        "\n",
        "  ```python\n",
        "  from google.colab import drive\n",
        "  drive.mount('/content/drive')\n",
        "  ```\n",
        "* Տվյալներին հասանելիություն ունենալուց հետո կարող եք սկսել տվյալների մշակման և ալգորիթմի ուսուցման գործընթացը։ Ստորև կարող եք գտնել խնդրի լուծման համար որոշակի հուշումներ։"
      ]
    },
    {
      "cell_type": "markdown",
      "metadata": {
        "id": "XiOn6Zav_ZID"
      },
      "source": [
        "## Տվյալների մշակում\n",
        "\n",
        "Եթե նկատեցիք, ուսուցողական բազմությունը իրենից ներկայացնում է նկարներ, որոնք գտնվում են համապատասխան տառերի պանակներում։ Կարող եք ստեղծել DataLoader, որի միջոցով այդ նկարները կարելի է կարդալ և տրամադրել մոդելին համապատասխան պիտակի հետ միասին։"
      ]
    },
    {
      "cell_type": "code",
      "execution_count": null,
      "metadata": {
        "id": "KX7YP_uji8YG"
      },
      "outputs": [],
      "source": [
        "! pip install kaggle"
      ]
    },
    {
      "cell_type": "code",
      "execution_count": null,
      "metadata": {
        "id": "GjxDcb9LVXOQ"
      },
      "outputs": [],
      "source": [
        "! mkdir ~/.kaggle\n"
      ]
    },
    {
      "cell_type": "code",
      "execution_count": null,
      "metadata": {
        "id": "1z3BjeBrjJl2"
      },
      "outputs": [],
      "source": [
        "! cp kaggle.json ~/.kaggle/"
      ]
    },
    {
      "cell_type": "code",
      "execution_count": null,
      "metadata": {
        "id": "QumjAf1ljOKT"
      },
      "outputs": [],
      "source": [
        "! chmod 600 ~/.kaggle/kaggle.json"
      ]
    },
    {
      "cell_type": "code",
      "execution_count": null,
      "metadata": {
        "id": "pzmosIdwjtNZ"
      },
      "outputs": [],
      "source": [
        "! kaggle competitions download mashtots-dataset-v2"
      ]
    },
    {
      "cell_type": "code",
      "execution_count": null,
      "metadata": {
        "id": "IKIXx807k_gN"
      },
      "outputs": [],
      "source": [
        "! unzip mashtots-dataset-v2.zip"
      ]
    },
    {
      "cell_type": "code",
      "execution_count": null,
      "metadata": {
        "id": "PknLXv19mqKa"
      },
      "outputs": [],
      "source": [
        "!pip install opencv-python"
      ]
    },
    {
      "cell_type": "code",
      "execution_count": null,
      "metadata": {
        "id": "WRw7C70CmmNi"
      },
      "outputs": [],
      "source": [
        "!pip install torchvision"
      ]
    },
    {
      "cell_type": "code",
      "execution_count": null,
      "metadata": {
        "id": "_xLeoUonmib1"
      },
      "outputs": [],
      "source": [
        "!pip install torch"
      ]
    },
    {
      "cell_type": "code",
      "execution_count": null,
      "metadata": {
        "id": "1Qv2W9nFGtID"
      },
      "outputs": [],
      "source": [
        "import pandas as pd\n",
        "import numpy as np\n",
        "import torch\n",
        "import os\n",
        "from PIL import Image\n",
        "from torchvision import transforms\n",
        "import matplotlib.pyplot as plt\n",
        "import cv2\n",
        "from torch.utils.data import DataLoader\n",
        "import re"
      ]
    },
    {
      "cell_type": "code",
      "source": [
        "pattern = re.compile(r'\\d+')\n",
        "\n",
        "# Define a function to extract the integer value from a filename\n",
        "def get_numeric_value(filename):\n",
        "    match = re.search(pattern, filename)\n",
        "    if match:\n",
        "        return int(match.group())\n",
        "    else:\n",
        "        return 0"
      ],
      "metadata": {
        "id": "sgd3wHvEuoBh"
      },
      "execution_count": null,
      "outputs": []
    },
    {
      "cell_type": "code",
      "execution_count": null,
      "metadata": {
        "id": "5qtR0zZAmyIU"
      },
      "outputs": [],
      "source": [
        "data_dir = '/content/Train/Train'\n",
        "classes = os.listdir(data_dir)\n",
        "int_list = [int(i) for i in classes]\n",
        "sorted_list = sorted(int_list)\n",
        "classes = [str(i) for i in sorted_list]\n",
        "file_list = []\n",
        "labels = []\n",
        "for i, class_name in enumerate(classes):\n",
        "    class_dir = os.path.join(data_dir, class_name)\n",
        "    file_names = os.listdir(class_dir)\n",
        "    file_names = sorted(file_names, key=get_numeric_value)\n",
        "    file_paths = [os.path.join(class_dir, file_name) for file_name in file_names]\n",
        "    file_list.extend(file_paths)\n",
        "    labels.extend([i]*len(file_names))\n"
      ]
    },
    {
      "cell_type": "code",
      "source": [
        "data = {\"labels\": labels, \"image\": file_list}\n",
        "df = pd.DataFrame(data)\n",
        "df"
      ],
      "metadata": {
        "id": "eP72d82qKhq4"
      },
      "execution_count": null,
      "outputs": []
    },
    {
      "cell_type": "code",
      "source": [
        "from PIL import Image\n",
        "from torch.utils.data import Dataset\n",
        "from torchvision.transforms import transforms\n",
        "\n",
        "class ImageDataset(Dataset):\n",
        "    def __init__(self, data, transform=None):\n",
        "        self.image = data['image']\n",
        "        self.labels = pd.to_numeric(data['labels'])\n",
        "        self.transform = transform\n",
        "\n",
        "    def __len__(self):\n",
        "        return len(self.image)\n",
        "\n",
        "    def __getitem__(self, idx):\n",
        "        img = Image.open(self.image[idx]).convert('RGB')\n",
        "        label = self.labels[idx]\n",
        "        if self.transform:\n",
        "            img = self.transform(img)\n",
        "        return img, label"
      ],
      "metadata": {
        "id": "Ul14xCAcKvJ4"
      },
      "execution_count": null,
      "outputs": []
    },
    {
      "cell_type": "code",
      "source": [
        "from torch.utils.data import DataLoader\n",
        "train_transform = transforms.Compose([\n",
        "        transforms.ToTensor(),\n",
        "        transforms.Normalize(mean=[0.485, 0.456, 0.406], \n",
        "                             std=[0.229, 0.224, 0.225])\n",
        "    ])\n",
        "image_dataset = ImageDataset(df, transform=train_transform)"
      ],
      "metadata": {
        "id": "wYkWLpdlLPqB"
      },
      "execution_count": null,
      "outputs": []
    },
    {
      "cell_type": "markdown",
      "metadata": {
        "id": "kEfannJo_cny"
      },
      "source": [
        "## Վավերացման (Validation) բազմության ստեղծում"
      ]
    },
    {
      "cell_type": "markdown",
      "metadata": {
        "id": "64aRpOo2GsIQ"
      },
      "source": [
        "Քանի որ դուք չունեք **պիտակավորված** ստուգողական տվյալներ, ալգորիթմների որակը գնահատելու համար ցանկալի է, որ ստեղծեք առանձին վավերացման բազմություն ձեզ տրված ուսուցողական բազմությունից։ Ինքներդ կարող եք որոշել, թե որքան մասն եք պահելու ուսուցման և ալգորիթմի վավերացման համար։ "
      ]
    },
    {
      "cell_type": "code",
      "source": [
        "from torch.utils.data import DataLoader, random_split\n",
        "\n",
        "# Split the dataset into training and validation sets\n",
        "train_size = int(len(image_dataset) * 0.95)\n",
        "val_size = len(image_dataset) - train_size\n",
        "train_dataset, val_dataset = random_split(image_dataset, [train_size, val_size])\n",
        "\n",
        "# Create DataLoader objects for the training and validation sets\n",
        "train_loader = DataLoader(train_dataset, batch_size=64, shuffle=True)\n",
        "val_loader = DataLoader(val_dataset, batch_size=64, shuffle=True)"
      ],
      "metadata": {
        "id": "bjGbPM-vvRWy"
      },
      "execution_count": null,
      "outputs": []
    },
    {
      "cell_type": "markdown",
      "metadata": {
        "id": "dwITJjqPHtAD"
      },
      "source": [
        "## Մոդելավորում\n",
        "\n",
        "Այս փուլում ցանկալի է որ իրականացնեք տարբեր փորձեր, որպեսզի ստանաք մրցունակ ալգորիթմ։"
      ]
    },
    {
      "cell_type": "code",
      "source": [
        "import torch\n",
        "import torch.nn as nn\n",
        "import torch.optim as optim"
      ],
      "metadata": {
        "id": "XLc-mNapvzW1"
      },
      "execution_count": null,
      "outputs": []
    },
    {
      "cell_type": "code",
      "source": [
        "def train_step(model: torch.nn.Module,\n",
        "               data_loader: torch.utils.data.DataLoader,\n",
        "               loss_fn: torch.nn.Module,\n",
        "               optimizer: torch.optim.Optimizer,\n",
        "               accuracy_fn,\n",
        "               device: torch.device='cuda'):\n",
        "    train_loss, train_acc = 0, 0\n",
        "    model.to(device)\n",
        "    for batch, (X, y) in enumerate(data_loader):\n",
        "        # Send data to GPU\n",
        "        X, y = X.to(device), y.to(device)\n",
        "\n",
        "        # 1. Forward pass\n",
        "        y_pred = model(X)\n",
        "\n",
        "        # 2. Calculate loss\n",
        "        loss = loss_fn(y_pred, y)\n",
        "        train_loss += loss\n",
        "        train_acc += accuracy_fn(y_true=y,\n",
        "                                 y_pred=y_pred.argmax(dim=1)) # Go from logits -> pred labels\n",
        "\n",
        "        # 3. Optimizer zero grad\n",
        "        optimizer.zero_grad()\n",
        "\n",
        "        # 4. Loss backward\n",
        "        loss.backward()\n",
        "\n",
        "        # 5. Optimizer step\n",
        "        optimizer.step()\n",
        "\n",
        "    # Calculate loss and accuracy per epoch and print out what's happening\n",
        "    train_loss /= len(data_loader)\n",
        "    train_acc /= len(data_loader)\n",
        "    print(f\"Train loss: {train_loss:.5f} | Train accuracy: {train_acc:.2f}%\")\n",
        "\n",
        "def test_step(data_loader: torch.utils.data.DataLoader,\n",
        "              model: torch.nn.Module,\n",
        "              loss_fn: torch.nn.Module,\n",
        "              accuracy_fn,\n",
        "              device: torch.device='cuda'):\n",
        "    test_loss, test_acc = 0, 0\n",
        "    model.to(device)\n",
        "    model.eval() # put model in eval mode\n",
        "    # Turn on inference context manager\n",
        "    with torch.inference_mode(): \n",
        "        for X, y in data_loader:\n",
        "            # Send data to GPU\n",
        "            X, y = X.to(device), y.to(device)\n",
        "            \n",
        "            # 1. Forward pass\n",
        "            test_pred = model(X)\n",
        "            \n",
        "            # 2. Calculate loss and accuracy\n",
        "            test_loss += loss_fn(test_pred, y)\n",
        "            test_acc += accuracy_fn(y_true=y,\n",
        "                y_pred=test_pred.argmax(dim=1) # Go from logits -> pred labels\n",
        "            )\n",
        "        \n",
        "        # Adjust metrics and print out\n",
        "        test_loss /= len(data_loader)\n",
        "        test_acc /= len(data_loader)\n",
        "        print(f\"Test loss: {test_loss:.5f} | Test accuracy: {test_acc:.2f}%\\n\")"
      ],
      "metadata": {
        "id": "_D5e24gBqCn_"
      },
      "execution_count": null,
      "outputs": []
    },
    {
      "cell_type": "code",
      "source": [
        "def accuracy_fn(y_true, y_pred):\n",
        "    correct = torch.eq(y_true, y_pred).sum().item() # torch.eq() calculates where two tensors are equal\n",
        "    acc = (correct / len(y_pred)) * 100 \n",
        "    return acc"
      ],
      "metadata": {
        "id": "31aSQ10bx0RC"
      },
      "execution_count": null,
      "outputs": []
    },
    {
      "cell_type": "code",
      "source": [
        "import torch\n",
        "import torchvision.models as models\n",
        "\n",
        "net = models.resnet50(pretrained=True).to('cuda')\n",
        "num_features = net.fc.in_features\n",
        "net.fc = nn.Linear(num_features, 78)\n",
        "criterion = nn.CrossEntropyLoss()\n",
        "optimizer = optim.Adam(net.parameters(), lr=0.0001)"
      ],
      "metadata": {
        "id": "ITBRY6og7j0V"
      },
      "execution_count": null,
      "outputs": []
    },
    {
      "cell_type": "code",
      "source": [
        "from tqdm.auto import tqdm\n",
        "from timeit import default_timer as timer\n",
        "\n",
        "torch.manual_seed(42)\n",
        "train_time_start_on_gpu = timer()\n",
        "\n",
        "epochs = 25\n",
        "for epoch in tqdm(range(epochs)):\n",
        "    print(f\"Epoch: {epoch}\\n---------\")\n",
        "    train_step(data_loader=train_loader, \n",
        "        model=net, \n",
        "        loss_fn=criterion,\n",
        "        optimizer=optimizer,\n",
        "        accuracy_fn=accuracy_fn\n",
        "    )\n",
        "    test_step(data_loader=val_loader,\n",
        "        model=net,\n",
        "        loss_fn=criterion,\n",
        "        accuracy_fn=accuracy_fn\n",
        "    )\n",
        "\n"
      ],
      "metadata": {
        "id": "qg05sX9Yqbsa"
      },
      "execution_count": null,
      "outputs": []
    },
    {
      "cell_type": "markdown",
      "metadata": {
        "id": "j3bQD03-Gshx"
      },
      "source": [
        "## Կանխատեսումների հավաքագրում\n",
        "\n",
        "Երբ կունենաք աշխատող ալգորիթմ, կարող եք փորձարկել այն kaggle միջավայրում՝ այնտեղ առկա new_test.csv տվյալների վրա (իրական պիտակները դուք չեք կարող տեսնել, ձեզ երևալու է միայն վերջնական արդյունքը [Categorization Accuracy](https://miro.medium.com/v2/resize:fit:373/1*yRa2inzTnyASJOre93ep3g.gif))։ Ստորև pseudo-code-ը կարող եք օգտագործել մոդելի կանխատեսումները kaggle հարթակ վերբեռնելու ձևաչափով պահպանելու համար։"
      ]
    },
    {
      "cell_type": "code",
      "execution_count": null,
      "metadata": {
        "id": "izLBr0wjIeVE"
      },
      "outputs": [],
      "source": [
        "import pandas as pd\n",
        "\n",
        "test = pd.read_csv('new_test/new_test.csv')\n",
        "test.head()"
      ]
    },
    {
      "cell_type": "code",
      "source": [
        "test_transform = transforms.Normalize(mean=[0.485, 0.456, 0.406], \n",
        "                             std=[0.229, 0.224, 0.225])"
      ],
      "metadata": {
        "id": "HvKzl_ZGP6Ip"
      },
      "execution_count": null,
      "outputs": []
    },
    {
      "cell_type": "code",
      "source": [
        "test_tensor = torch.tensor(test.values, dtype=torch.float) / 255\n",
        "test_images = test_tensor.reshape((-1, 64, 64))\n",
        "test_loader = DataLoader(test_images, batch_size=64)\n"
      ],
      "metadata": {
        "id": "Mt4eUrmJd4qY"
      },
      "execution_count": null,
      "outputs": []
    },
    {
      "cell_type": "code",
      "source": [
        "import csv\n",
        "\n",
        "device = torch.device(\"cuda:0\" if torch.cuda.is_available() else \"cpu\")\n",
        "net.eval()\n",
        "predictions = np.array([]) \n",
        "for minibatch in test_loader:\n",
        "    minibatch = minibatch.to(device)\n",
        "    minibatch = minibatch.unsqueeze(1)\n",
        "    minibatch = minibatch.repeat(1, 3, 1, 1)\n",
        "    minibatch = test_transform(minibatch)\n",
        "    output = net(minibatch)\n",
        "    pred = output.argmax(axis=1)\n",
        "    predictions = np.append(predictions, pred.cpu().numpy())"
      ],
      "metadata": {
        "id": "6SdNsSwIeHTn"
      },
      "execution_count": null,
      "outputs": []
    },
    {
      "cell_type": "code",
      "source": [
        " predictions = predictions.astype(int)"
      ],
      "metadata": {
        "id": "ejhiVirJBqZQ"
      },
      "execution_count": null,
      "outputs": []
    },
    {
      "cell_type": "code",
      "source": [
        "submission_df = pd.DataFrame({'Id': np.arange(1, test_images.shape[0]+1),\n",
        "                      'Category': predictions})\n",
        "submission_df.to_csv('my_submission.csv', index=False)"
      ],
      "metadata": {
        "id": "VgULb84VA5bS"
      },
      "execution_count": null,
      "outputs": []
    },
    {
      "cell_type": "markdown",
      "metadata": {
        "id": "xxd7qfnQJZMp"
      },
      "source": [
        "* Վերբեռնել ստեղծված ``my_submission.csv``֊ն Kaggle հարթակ՝ սեղմելով \"Submit predictions\" և կատարելով այդ էջում նշված քայլերը. \n",
        "\n",
        "* Ձեզնից կպահանձվի բնութագրել ձեր լուծումը մի քանի բառով \"Describe Submission\" բաժնում \n",
        "\n",
        "* Յուրաքանչյուր վերբեռնումից հետո կատարել էկրանանկար (screenshot), որտեղ հնարավոր կլինի տեսնել ալգորիթմի բնութագիրը և ստացված արդյունքը\n",
        "\n",
        "* **Ստացված բոլոր էկրանանկարները պետք է ուղարկեք ձեր աշխատանքային notebook-ի հետ միասին ․zip ֆայլով՝ *HW4_Kaggle_NshanPotikyan.zip**\n",
        "\n",
        "* Ամեն օր կարող եք կատարել առավելագույնը 5 վերբեռնում\n",
        "\n",
        "* Մրցույթին խմբերով մասնակցել չի՛ կարելի"
      ]
    },
    {
      "cell_type": "markdown",
      "metadata": {
        "id": "D3sUsROYKlnr"
      },
      "source": [
        "# Գնահատման կարգ\n",
        "\n",
        "* Գնահատվելու համար ձեզնից կպահանջվի կատարել առնվազն 5 վերբեռնում 40% ճշգրտությունը գերազանցող մոդելներով։\n",
        "\n",
        "* Նրանք ովքեր կստանան 90% և ավել ճշգրտություն ապահովող մոդելներ, կստանան 1/20 հավելյալ միավոր։\n",
        "\n",
        "* Ամենաբարձր ճշգրտությամբ մոդելը ստացած ուսանողը կստանա 2/20 հավելյալ միավոր\n",
        "\n",
        "* Ընդհանուր մրցույթում առաջին տեղը զբաղեցնելու դեպքում կստանաք 3/20 միավոր։"
      ]
    }
  ],
  "metadata": {
    "colab": {
      "provenance": [],
      "private_outputs": true,
      "gpuType": "T4"
    },
    "kernelspec": {
      "display_name": "Python 3",
      "language": "python",
      "name": "python3"
    },
    "language_info": {
      "codemirror_mode": {
        "name": "ipython",
        "version": 3
      },
      "file_extension": ".py",
      "mimetype": "text/x-python",
      "name": "python",
      "nbconvert_exporter": "python",
      "pygments_lexer": "ipython3",
      "version": "3.7.4"
    },
    "accelerator": "GPU",
    "gpuClass": "standard"
  },
  "nbformat": 4,
  "nbformat_minor": 0
}