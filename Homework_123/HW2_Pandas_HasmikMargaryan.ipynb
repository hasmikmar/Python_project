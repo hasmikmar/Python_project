{
  "nbformat": 4,
  "nbformat_minor": 0,
  "metadata": {
    "colab": {
      "provenance": []
    },
    "kernelspec": {
      "display_name": "Python 3",
      "language": "python",
      "name": "python3"
    },
    "language_info": {
      "codemirror_mode": {
        "name": "ipython",
        "version": 3
      },
      "file_extension": ".py",
      "mimetype": "text/x-python",
      "name": "python",
      "nbconvert_exporter": "python",
      "pygments_lexer": "ipython3",
      "version": "3.7.6"
    }
  },
  "cells": [
    {
      "cell_type": "markdown",
      "metadata": {
        "id": "ouC6teuHmxmQ"
      },
      "source": [
        "Ստորև գրված առաջադրանքները կատարելու վերջնաժամկետը **06.03.2023 20:00** է։ Առաջադրանքները կատարելուց հետո, պետք է \n",
        "\n",
        "1. ներբեռնեք այս ֆայլը ձեր համակարգիչ (`File` $\\to$ `Download .ipynb`)\n",
        "2. վերնագրին ավելացնեք ձեր անուն, ազգանունը լատինատառ, օրինակ՝ *HW2_Pandas_NshanPotikyan.ipynb* ֆորմատով\n",
        "3. ուղարկեք ֆայլը **nshan.potikyan@gmail.com** հասցեին` նամակի թեմա (subject) դաշտում գրելով **HA2**\n",
        "\n",
        "**Ուշադրություն**․ \n",
        "1. Վերոնշյալ պայմաններին չբավարարելու դեպքում ձեր աշխատանքը չի գնահատվի։\n",
        "2. Ստորև նշված գրադարաններից բացի այլ գրադարաններ չի՛ կարելի ներմուծել \n",
        "3. Կոդի համար նախատեսված հավելյալ վանդակներ ստեղծել նույնպես չի կարելի \n",
        "4. Մեկ ⭐-ը մեկ միավոր (հարաբերական) է  \n",
        "5. Նորից կարդալ 1., 2. և 3. կետերը\n",
        "\n"
      ]
    },
    {
      "cell_type": "markdown",
      "source": [
        "Ներքոնշյալ վանդակը աշխատացնելու արդյունքում կներմուծվեն անհրաժեշտ գրադարաններ և տվյալներ։ **Խնդիրները լուծելու համար պետք է նախ կարդալ տվյալների նկարագրությունը։**"
      ],
      "metadata": {
        "id": "2llMXDU2vhmS"
      }
    },
    {
      "cell_type": "code",
      "metadata": {
        "id": "3Vn0GtnroyLK",
        "colab": {
          "base_uri": "https://localhost:8080/"
        },
        "outputId": "9c5059ae-8dd9-478d-ab6c-3b4b7a1bc802"
      },
      "source": [
        "import numpy as np\n",
        "import pandas as pd\n",
        "\n",
        "from sklearn.datasets import load_iris, fetch_openml\n",
        "iris = load_iris()\n",
        "\n",
        "titanic = fetch_openml(name='Titanic', version=1)\n",
        "titanic = pd.concat([titanic['data'], titanic['target']], axis=1)"
      ],
      "execution_count": null,
      "outputs": [
        {
          "output_type": "stream",
          "name": "stderr",
          "text": [
            "/usr/local/lib/python3.9/dist-packages/sklearn/datasets/_openml.py:932: FutureWarning: The default value of `parser` will change from `'liac-arff'` to `'auto'` in 1.4. You can set `parser='auto'` to silence this warning. Therefore, an `ImportError` will be raised from 1.4 if the dataset is dense and pandas is not installed. Note that the pandas parser may return different data types. See the Notes Section in fetch_openml's API doc for details.\n",
            "  warn(\n"
          ]
        }
      ]
    },
    {
      "cell_type": "markdown",
      "source": [
        "# Iris plants dataset\n",
        "\n",
        "**Data Set Characteristics:**\n",
        "\n",
        "    :Number of Instances: 150 (50 in each of three classes)\n",
        "    :Number of Attributes: 4 numeric, predictive attributes and the class\n",
        "    :Attribute Information:\n",
        "        - sepal length in cm\n",
        "        - sepal width in cm\n",
        "        - petal length in cm\n",
        "        - petal width in cm\n",
        "        - class:\n",
        "                - Iris-Setosa\n",
        "                - Iris-Versicolour\n",
        "                - Iris-Virginica"
      ],
      "metadata": {
        "id": "t70K4JxC_DjO"
      }
    },
    {
      "cell_type": "markdown",
      "metadata": {
        "id": "1WbPDB3mI7MO"
      },
      "source": [
        "**Խնդիր 1.⭐** Ստորև վանդակը աշխատացնելուց հետո կստեղծվեն հետևյալ փոփոխականները՝ \n",
        "\n",
        "* data $\\rightarrow$ $150 \\times 4$ չափանի numpy զանգված \n",
        "\n",
        "* feature_names $\\rightarrow$ string-երի list՝ 4 տարրից բաղկացած \n",
        "\n",
        "* target $\\rightarrow$ $150$ չափանի numpy զանգված \n",
        "\n",
        "* target_names $\\rightarrow$ string-երի list՝ 3 տարրից բաղկացած։\n",
        "\n",
        " Պահանջվում է գրել ``get_data_frame`` ֆունկցիա, որը կստեղծի  5 սյուն և 150 տող ունեցող pandas DataFrame այնպես, որ \n",
        " \n",
        " * առաջին 4 սյուներում գրված լինեն ``data`` փոփոխականի պարունակությունը, սյուների անուններն էլ լինեն  'feature_names'-ի տարրերը (տրված հերթականությամբ)\n",
        " * իսկ հինգերորդ՝ \"target name\" կոչվող, սյան մեջ լինի ``target``-ը, բայց ամեն թվի փոխարեն գրված լինի \t``target_names``-ի համապատասխան ինդեքսով տարրը: \n",
        "\n",
        "Վերջնական DataFrame-ի առաջին 5 տողերը կունենան հետևյալ տեսքը՝\n",
        "```\n",
        "\tsepal length (cm)\tsepal width (cm)\tpetal length (cm)\tpetal width (cm)\ttarget name\n",
        "0\t     5.1             \t3.5\t                1.4\t           0.2\t          setosa\n",
        "1\t     4.9            \t 3.0                \t1.4           \t0.2\t          setosa\n",
        "2\t     4.7             \t3.2                \t1.3           \t0.2\t          setosa\n",
        "3\t     4.6\t             3.1                \t1.5           \t0.2\t          setosa\n",
        "4\t     5.0             \t3.6                \t1.4           \t0.2\t          setosa\n",
        "```\n",
        "\n",
        "**Ստացված DataFrame֊ը օգտագործվելու է հաջորդ խնդիրներում**։\n"
      ]
    },
    {
      "cell_type": "code",
      "source": [
        "def get_data_frame(data, feature_names, target, target_names):\n",
        "  # Այստեղ կարող է լինել ձեր կոդը\n",
        "   df = pd.DataFrame(data, columns=feature_names)\n",
        "   df['target name'] = [target_names[i] for i in target]\n",
        "   return df"
      ],
      "metadata": {
        "id": "2V9dAiZOqhOy"
      },
      "execution_count": null,
      "outputs": []
    },
    {
      "cell_type": "code",
      "metadata": {
        "id": "cTN0Ve60jEqT",
        "colab": {
          "base_uri": "https://localhost:8080/"
        },
        "outputId": "af2769f6-5c88-4c7c-f29d-2e3308f97c1d"
      },
      "source": [
        "# Այստեղ կարող եք ստուգել ձեր լուծումը\n",
        "df = get_data_frame(data=iris['data'],\n",
        "                    feature_names=iris['feature_names'],\n",
        "                    target=iris['target'],\n",
        "                    target_names=iris['target_names'])\n",
        "print(df)"
      ],
      "execution_count": null,
      "outputs": [
        {
          "output_type": "stream",
          "name": "stdout",
          "text": [
            "     sepal length (cm)  sepal width (cm)  petal length (cm)  petal width (cm)  \\\n",
            "0                  5.1               3.5                1.4               0.2   \n",
            "1                  4.9               3.0                1.4               0.2   \n",
            "2                  4.7               3.2                1.3               0.2   \n",
            "3                  4.6               3.1                1.5               0.2   \n",
            "4                  5.0               3.6                1.4               0.2   \n",
            "..                 ...               ...                ...               ...   \n",
            "145                6.7               3.0                5.2               2.3   \n",
            "146                6.3               2.5                5.0               1.9   \n",
            "147                6.5               3.0                5.2               2.0   \n",
            "148                6.2               3.4                5.4               2.3   \n",
            "149                5.9               3.0                5.1               1.8   \n",
            "\n",
            "    target name  \n",
            "0        setosa  \n",
            "1        setosa  \n",
            "2        setosa  \n",
            "3        setosa  \n",
            "4        setosa  \n",
            "..          ...  \n",
            "145   virginica  \n",
            "146   virginica  \n",
            "147   virginica  \n",
            "148   virginica  \n",
            "149   virginica  \n",
            "\n",
            "[150 rows x 5 columns]\n"
          ]
        }
      ]
    },
    {
      "cell_type": "markdown",
      "metadata": {
        "id": "IqlAUvbTO2Lo"
      },
      "source": [
        "**Խնդիր 2.⭐⭐** Նախորդ խնդրում ստացված ``df`` աղյուսակի մեջ գրված է ծաղիկների թերթիկների (պսակաթերթի և բաժակաթերթի) երկարությունն ու լայնությունը և համապատասխան ծաղիկի համարը։ {'setosa', 'versicolor', 'virginica'} տեսակները՝ կոդավորված {0,1,2} թվերով։\n",
        "\n",
        "![picture](https://encrypted-tbn0.gstatic.com/images?q=tbn%3AANd9GcRaU43Ra3xTYTpU2XLBw5yl20Qty3OCJzjDBw&usqp=CAU)\n",
        "\n",
        "Ստեղծել ``get_stats`` անունով ֆունցկիա, որը, օգտագործելով ``pd.group_by`` ֆունկցիան, կհաշվի յուրաքանչուր ծաղկատեսակի թերթիկի (պսակաթերթ և բաժակաթերթ)\n",
        "\n",
        "1. միջին երկարությունը\n",
        "2. միջին լայնությունը\n",
        "3. նվազագույն երկարությունը\n",
        "4. նվազագույն լայնությունը\n",
        "5. առավելագույն երկարությունը\n",
        "6. առավելագույն լայնությունը\n",
        "\n",
        "և որպես վերջնարդյունք կվերադարձնի pandas DataFrame, որի սյուները կլինեն \n",
        " \n",
        "```python\n",
        "[\"mean sepal length (cm)\", \"mean petal length (cm)\", \"mean sepal width (cm)\", \"mean petal width (cm)\", \"min sepal length (cm)\", \"min petal length (cm)\", \"min sepal width (cm)\", \"min petal width (cm)\", \"max sepal length (cm)\", \"max petal length (cm)\", \"max sepal width (cm)\", \"max petal width (cm)\"]\n",
        "```\n",
        "իսկ ծաղիկների տեսակները կլինեն ինդեքսների անունները։ "
      ]
    },
    {
      "cell_type": "code",
      "metadata": {
        "id": "eVIqC81LO2QW"
      },
      "source": [
        "def get_stats(df):\n",
        "  # Այստեղ կարող է լինել ձեր կոդը\n",
        "    stats = df.groupby('target name').agg(\n",
        "        sepal_length_mean=('sepal length (cm)', 'mean'),\n",
        "        petal_length__mean =('petal length (cm)', 'mean'),\n",
        "        sepal_width_mean=('sepal width (cm)', 'mean'),\n",
        "        petal_width_mean=('petal width (cm)', 'mean'),\n",
        "        sepal_length_min=('sepal length (cm)', 'min'),\n",
        "        petal_length_min=('petal length (cm)', 'min'),\n",
        "        sepal_width_min=('sepal width (cm)', 'min'),\n",
        "        petal_width_min=('petal width (cm)', 'min'),\n",
        "        sepal_length_max=('sepal length (cm)', 'max'),\n",
        "        petal_length_max=('petal length (cm)', 'max'),\n",
        "        sepal_width_max=('sepal width (cm)', 'max'),\n",
        "        petal_width_max=('petal width (cm)', 'max')\n",
        "        ) \n",
        "    stats.index.name = 'target name'\n",
        "    columns = [\"mean sepal length (cm)\", \"mean petal length (cm)\", \"mean sepal width (cm)\", \"mean petal width (cm)\", \"min sepal length (cm)\", \"min petal length (cm)\", \"min sepal width (cm)\", \"min petal width (cm)\", \"max sepal length (cm)\",\"max petal length (cm)\", \"max sepal width (cm)\", \"max petal width (cm)\"]\n",
        "    stats.columns = columns\n",
        " \n",
        "    return stats"
      ],
      "execution_count": null,
      "outputs": []
    },
    {
      "cell_type": "code",
      "metadata": {
        "id": "tnLzQbGrO2U1",
        "colab": {
          "base_uri": "https://localhost:8080/"
        },
        "outputId": "13c498e7-69ec-4b96-c757-404f294b4bb1"
      },
      "source": [
        "# Այստեղ կարող եք ստուգել ձեր լուծումը\n",
        "df_stats = get_stats(df)\n",
        "print(df_stats)"
      ],
      "execution_count": null,
      "outputs": [
        {
          "output_type": "stream",
          "name": "stdout",
          "text": [
            "             mean sepal length (cm)  mean petal length (cm)  \\\n",
            "target name                                                   \n",
            "setosa                        5.006                   1.462   \n",
            "versicolor                    5.936                   4.260   \n",
            "virginica                     6.588                   5.552   \n",
            "\n",
            "             mean sepal width (cm)  mean petal width (cm)  \\\n",
            "target name                                                 \n",
            "setosa                       3.428                  0.246   \n",
            "versicolor                   2.770                  1.326   \n",
            "virginica                    2.974                  2.026   \n",
            "\n",
            "             min sepal length (cm)  min petal length (cm)  \\\n",
            "target name                                                 \n",
            "setosa                         4.3                    1.0   \n",
            "versicolor                     4.9                    3.0   \n",
            "virginica                      4.9                    4.5   \n",
            "\n",
            "             min sepal width (cm)  min petal width (cm)  \\\n",
            "target name                                               \n",
            "setosa                        2.3                   0.1   \n",
            "versicolor                    2.0                   1.0   \n",
            "virginica                     2.2                   1.4   \n",
            "\n",
            "             max sepal length (cm)  max petal length (cm)  \\\n",
            "target name                                                 \n",
            "setosa                         5.8                    1.9   \n",
            "versicolor                     7.0                    5.1   \n",
            "virginica                      7.9                    6.9   \n",
            "\n",
            "             max sepal width (cm)  max petal width (cm)  \n",
            "target name                                              \n",
            "setosa                        4.4                   0.6  \n",
            "versicolor                    3.4                   1.8  \n",
            "virginica                     3.8                   2.5  \n"
          ]
        }
      ]
    },
    {
      "cell_type": "markdown",
      "metadata": {
        "id": "cd7-trlHcXxd"
      },
      "source": [
        "**Խնդիր 3.⭐⭐** Լրացնել ``remove_small_flowers`` ֆունկցիան, որը ``df`` աղյուսակից կջնջի այն տողերը, որոնց 'sepal width'-ը փոքր է իր տեսակի միջինից (օգտվելով նախորդ խնդրի հաշվարկներից ``df_stats``)։"
      ]
    },
    {
      "cell_type": "code",
      "metadata": {
        "id": "17ayVp5WcX1g"
      },
      "source": [
        "def remove_small_flowers(df, df_stats):\n",
        "  # Այստեղ կարող է լինել ձեր կոդը\n",
        "  for flower_type in df_stats.index:\n",
        "      mean_sepal_width = df_stats.loc[flower_type, 'mean sepal width (cm)']\n",
        "      df = df.drop(df[(df['target name'] == flower_type) & (df['sepal width (cm)'] < mean_sepal_width)].index)\n",
        "  return df"
      ],
      "execution_count": null,
      "outputs": []
    },
    {
      "cell_type": "code",
      "metadata": {
        "id": "cLg_LROYlRNd",
        "colab": {
          "base_uri": "https://localhost:8080/"
        },
        "outputId": "02826103-c136-4818-be02-4508a89db2f5"
      },
      "source": [
        "# Այստեղ կարող եք ստուգել ձեր լուծումը\n",
        "df = remove_small_flowers(df, df_stats)\n",
        "print(df)"
      ],
      "execution_count": null,
      "outputs": [
        {
          "output_type": "stream",
          "name": "stdout",
          "text": [
            "     sepal length (cm)  sepal width (cm)  petal length (cm)  petal width (cm)  \\\n",
            "0                  5.1               3.5                1.4               0.2   \n",
            "4                  5.0               3.6                1.4               0.2   \n",
            "5                  5.4               3.9                1.7               0.4   \n",
            "10                 5.4               3.7                1.5               0.2   \n",
            "14                 5.8               4.0                1.2               0.2   \n",
            "..                 ...               ...                ...               ...   \n",
            "144                6.7               3.3                5.7               2.5   \n",
            "145                6.7               3.0                5.2               2.3   \n",
            "147                6.5               3.0                5.2               2.0   \n",
            "148                6.2               3.4                5.4               2.3   \n",
            "149                5.9               3.0                5.1               1.8   \n",
            "\n",
            "    target name  \n",
            "0        setosa  \n",
            "4        setosa  \n",
            "5        setosa  \n",
            "10       setosa  \n",
            "14       setosa  \n",
            "..          ...  \n",
            "144   virginica  \n",
            "145   virginica  \n",
            "147   virginica  \n",
            "148   virginica  \n",
            "149   virginica  \n",
            "\n",
            "[80 rows x 5 columns]\n"
          ]
        }
      ]
    },
    {
      "cell_type": "markdown",
      "source": [
        "# Titanic\n",
        "\n",
        "Titanic dataset-ի մասին կարելի է կարդալ [այստեղ](https://www.kaggle.com/competitions/titanic/data)։"
      ],
      "metadata": {
        "id": "D0Q-7KYO-_qL"
      }
    },
    {
      "cell_type": "markdown",
      "source": [
        "**Խնդիր 4.⭐** Լրացնել ``problem4`` ֆունկցիան այնպես, որ այն վերադարձնի հետևյալ պայմաններին բավարարող տղամարդկանց տվյալները որպես dataframe, \n",
        "* ում անվան մեջ կա ``ian`` կամ ``yan`` բառերը,\n",
        "* ում pclass=3 և embarked=C "
      ],
      "metadata": {
        "id": "xvN2Utl4Be_h"
      }
    },
    {
      "cell_type": "code",
      "source": [
        "def problem4(data):\n",
        "  return data[(data['pclass'] == 3) & (data['embarked'] == 'C') & (data['name'].str.contains('ian') | data['name'].str.contains('yan'))]"
      ],
      "metadata": {
        "id": "K6zOHy2lGGwF"
      },
      "execution_count": null,
      "outputs": []
    },
    {
      "cell_type": "code",
      "source": [
        "# Այստեղ կարող եք ստուգել ձեր լուծումը\n",
        "print(problem4(data = titanic))"
      ],
      "metadata": {
        "id": "LkldQaPTKAn8",
        "colab": {
          "base_uri": "https://localhost:8080/"
        },
        "outputId": "82ccc5dc-2f7d-4743-a56b-cd04e1f2941c"
      },
      "execution_count": null,
      "outputs": [
        {
          "output_type": "stream",
          "name": "stdout",
          "text": [
            "      pclass                                   name     sex   age  sibsp  \\\n",
            "647      3.0  Assaf Khalil, Mrs. Mariana ('Miriam')  female  45.0    0.0   \n",
            "941      3.0                  Krekorian, Mr. Neshan    male  25.0    0.0   \n",
            "994      3.0                Mardirosian, Mr. Sarkis    male   NaN    0.0   \n",
            "1201     3.0                  Sirayanian, Mr. Orsen    male  22.0    0.0   \n",
            "1277     3.0                   Vartanian, Mr. David    male  22.0    0.0   \n",
            "1306     3.0              Zakarian, Mr. Mapriededer    male  26.5    0.0   \n",
            "1307     3.0                    Zakarian, Mr. Ortin    male  27.0    0.0   \n",
            "\n",
            "      parch ticket    fare  cabin embarked   boat   body   home.dest survived  \n",
            "647     0.0   2696  7.2250   None        C      C    NaN  Ottawa, ON        1  \n",
            "941     0.0   2654  7.2292  F E57        C     10    NaN        None        1  \n",
            "994     0.0   2655  7.2292  F E46        C   None    NaN        None        0  \n",
            "1201    0.0   2669  7.2292   None        C   None    NaN        None        0  \n",
            "1277    0.0   2658  7.2250   None        C  13 15    NaN        None        1  \n",
            "1306    0.0   2656  7.2250   None        C   None  304.0        None        0  \n",
            "1307    0.0   2670  7.2250   None        C   None    NaN        None        0  \n"
          ]
        }
      ]
    },
    {
      "cell_type": "markdown",
      "source": [
        "**Խնդիր 5.⭐⭐** Լրացնել ``problem5`` ֆունկցիան, որը\n",
        " * պետք է վերադարձնի բոլոր ուղևորների տվյալները, ում տարիքի տվյալը բացակայում էր սկզբնական տվյալներում, ինչպես նաև\n",
        "\n",
        "* լրացնի բացակայող տարիքները ըստ համապատասխան pclass-ի միջին տարիքի"
      ],
      "metadata": {
        "id": "hmulthBcMHgY"
      }
    },
    {
      "cell_type": "code",
      "source": [
        "def problem5(data):\n",
        "    mean_ages = data.groupby('pclass')['age'].mean().to_dict()\n",
        "    filled_data = data.copy()\n",
        "    filled_data['age'].fillna(mean_ages, inplace=True)\n",
        "  \n",
        "    incomplete_data = filled_data[filled_data['age'].isnull()]\n",
        "    return incomplete_data\n"
      ],
      "metadata": {
        "id": "RyIq5Ri20M6L"
      },
      "execution_count": null,
      "outputs": []
    },
    {
      "cell_type": "code",
      "source": [
        "# Այստեղ կարող եք ստուգել ձեր լուծումը\n",
        "print(problem5(data=titanic))"
      ],
      "metadata": {
        "id": "1fJWLeGEQtRT",
        "colab": {
          "base_uri": "https://localhost:8080/"
        },
        "outputId": "85a908cb-5ef8-4447-9c6c-21bae217f0fc"
      },
      "execution_count": null,
      "outputs": [
        {
          "output_type": "stream",
          "name": "stdout",
          "text": [
            "      pclass                                               name     sex  age  \\\n",
            "15       1.0                                Baumann, Mr. John D    male  NaN   \n",
            "37       1.0      Bradley, Mr. George ('George Arthur Brayton')    male  NaN   \n",
            "40       1.0                          Brewe, Dr. Arthur Jackson    male  NaN   \n",
            "46       1.0                              Cairns, Mr. Alexander    male  NaN   \n",
            "59       1.0  Cassebeer, Mrs. Henry Arthur Jr (Eleanor Genev...  female  NaN   \n",
            "...      ...                                                ...     ...  ...   \n",
            "1293     3.0                  Williams, Mr. Howard Hugh 'Harry'    male  NaN   \n",
            "1297     3.0                             Wiseman, Mr. Phillippe    male  NaN   \n",
            "1302     3.0                                  Yousif, Mr. Wazli    male  NaN   \n",
            "1303     3.0                              Yousseff, Mr. Gerious    male  NaN   \n",
            "1305     3.0                              Zabour, Miss. Thamine  female  NaN   \n",
            "\n",
            "      sibsp  parch      ticket     fare cabin embarked  boat body  \\\n",
            "15      0.0    0.0    PC 17318  25.9250  None        S  None  NaN   \n",
            "37      0.0    0.0      111427  26.5500  None        S     9  NaN   \n",
            "40      0.0    0.0      112379  39.6000  None        C  None  NaN   \n",
            "46      0.0    0.0      113798  31.0000  None        S  None  NaN   \n",
            "59      0.0    0.0       17770  27.7208  None        C     5  NaN   \n",
            "...     ...    ...         ...      ...   ...      ...   ...  ...   \n",
            "1293    0.0    0.0    A/5 2466   8.0500  None        S  None  NaN   \n",
            "1297    0.0    0.0  A/4. 34244   7.2500  None        S  None  NaN   \n",
            "1302    0.0    0.0        2647   7.2250  None        C  None  NaN   \n",
            "1303    0.0    0.0        2627  14.4583  None        C  None  NaN   \n",
            "1305    1.0    0.0        2665  14.4542  None        C  None  NaN   \n",
            "\n",
            "             home.dest survived  \n",
            "15        New York, NY        0  \n",
            "37     Los Angeles, CA        1  \n",
            "40    Philadelphia, PA        0  \n",
            "46                None        0  \n",
            "59        New York, NY        1  \n",
            "...                ...      ...  \n",
            "1293              None        0  \n",
            "1297              None        0  \n",
            "1302              None        0  \n",
            "1303              None        0  \n",
            "1305              None        0  \n",
            "\n",
            "[263 rows x 14 columns]\n"
          ]
        }
      ]
    },
    {
      "cell_type": "markdown",
      "source": [
        "**Խնդիր 6.⭐⭐** Լրացնել ``problem6`` ֆունկցիան այնպես, որ այն վերադարձնի այսպիսի dataframe, որտեղ x-ի փոխարեն լինեն survived բնութագրիչի համապատասխան արժեքների միջինները։\n",
        "\n",
        "|pclass | sex  | avg(survived) |  \n",
        "|-----|--------| ------------- |\n",
        "|1    | male       |      x        |\n",
        "|2    | male       |      x        |\n",
        "|3    | male       |      x        |\n",
        "|1    | female       |      x        |\n",
        "|2    | female       |      x        |\n",
        "|3    | female       |      x        |\n"
      ],
      "metadata": {
        "id": "s8qpbqG8_MZC"
      }
    },
    {
      "cell_type": "code",
      "source": [
        "def problem6(data):\n",
        "    data['survived'] = data['survived'].astype('int')\n",
        "    mean_df = data.groupby(['pclass', 'sex'])['survived'].mean().reset_index()\n",
        "    mean_df.columns = ['pclass', 'sex', 'avg(survived)']\n",
        "    return mean_df"
      ],
      "metadata": {
        "id": "EqJl7MDHAIKK"
      },
      "execution_count": null,
      "outputs": []
    },
    {
      "cell_type": "code",
      "source": [
        "# Այստեղ կարող եք ստուգել ձեր լուծումը\n",
        "print(problem6(data=titanic))"
      ],
      "metadata": {
        "id": "EIrgWx6M_ZYJ",
        "colab": {
          "base_uri": "https://localhost:8080/"
        },
        "outputId": "d5f69a89-c925-4e9d-80c7-5e23a4281077"
      },
      "execution_count": null,
      "outputs": [
        {
          "output_type": "stream",
          "name": "stdout",
          "text": [
            "   pclass     sex  avg(survived)\n",
            "0     1.0  female       0.965278\n",
            "1     1.0    male       0.340782\n",
            "2     2.0  female       0.886792\n",
            "3     2.0    male       0.146199\n",
            "4     3.0  female       0.490741\n",
            "5     3.0    male       0.152130\n"
          ]
        }
      ]
    },
    {
      "cell_type": "markdown",
      "source": [
        "**Խնդիր 7.⭐⭐** Լրացնել ``problem7`` ֆունկցիան, որը պետք է վերադարձնի այն սյուները, որտեղ կան բացակայող տվյալներ՝ դրանք նախապես հետևյալ կերպ լրացնելով․\n",
        "* բոլոր այն սյուներում, որտեղ կան արժեքներ առաջին տողում, պետք է լրացվեն վերցնելով բացակայող արժեքից անմիջապես առաջ եղած արժեքը\n",
        "* բոլոր այն սյուներում, որտեղ կան արժեքներ վերջին տողում, պետք է լրացվեն վերցնելով բացակայող արժեքից անմիջապես հետո եղած արժեքը\n",
        "* եթե վերոնշյալ 2 պայմանները բավարարվում են, ապա պետք է բացակայող արժեքները լրացվեն առաջին և վերջին տողերում առկա արժեքների թվաբանական միջինով\n",
        "* եթե առաջին 2 պայմանները տեղի չունեն, ապա բացակայող տվյալները լրացնել 0֊ներով։"
      ],
      "metadata": {
        "id": "EQ0ne9cQtU61"
      }
    },
    {
      "cell_type": "code",
      "source": [
        "def problem7(data):\n",
        "  # Այստեղ կարող է լինել ձեր կոդը\n",
        "    nan_columns = data.loc[:, data.isna().any()]\n",
        "    nan_columns.fillna(method='ffill', inplace=True)\n",
        "    nan_columns.fillna(method='bfill', inplace=True)\n",
        "\n",
        "    for col in nan_columns:\n",
        "        if pd.isna(nan_columns[col][0]) and pd.isna(nan_columns[col].iloc[-1]):\n",
        "            mean_val = (nan_columns[col + 1][0] + nan_columns[col - 1][0]) / 2\n",
        "            nan_columns[col].fillna(mean_val, inplace=True)\n",
        "        elif pd.isna(nan_columns[col][0]):\n",
        "            nan_columns[col].fillna(0, inplace=True)\n",
        "        elif pd.isna(nan_columns[col].iloc[-1]):\n",
        "            nan_columns[col].fillna(0, inplace=True)\n",
        "\n",
        "    return nan_columns\n"
      ],
      "metadata": {
        "id": "LFrV1tK3tU_a"
      },
      "execution_count": null,
      "outputs": []
    },
    {
      "cell_type": "code",
      "source": [
        "# Այստեղ կարող եք ստուգել ձեր լուծումը\n",
        "print(problem7(data=titanic))"
      ],
      "metadata": {
        "id": "UxgmR92TtVEE",
        "colab": {
          "base_uri": "https://localhost:8080/"
        },
        "outputId": "7bc6d56b-0158-4662-ba08-3111d99735df"
      },
      "execution_count": null,
      "outputs": [
        {
          "output_type": "stream",
          "name": "stdout",
          "text": [
            "          age      fare    cabin embarked boat   body  \\\n",
            "0     29.0000  211.3375       B5        S    2  135.0   \n",
            "1      0.9167  151.5500  C22 C26        S   11  135.0   \n",
            "2      2.0000  151.5500  C22 C26        S   11  135.0   \n",
            "3     30.0000  151.5500  C22 C26        S   11  135.0   \n",
            "4     25.0000  151.5500  C22 C26        S   11  135.0   \n",
            "...       ...       ...      ...      ...  ...    ...   \n",
            "1304  14.5000   14.4542      F38        C    C  328.0   \n",
            "1305  14.5000   14.4542      F38        C    C  328.0   \n",
            "1306  26.5000    7.2250      F38        C    C  304.0   \n",
            "1307  27.0000    7.2250      F38        C    C  304.0   \n",
            "1308  29.0000    7.8750      F38        S    C  304.0   \n",
            "\n",
            "                            home.dest  \n",
            "0                        St Louis, MO  \n",
            "1     Montreal, PQ / Chesterville, ON  \n",
            "2     Montreal, PQ / Chesterville, ON  \n",
            "3     Montreal, PQ / Chesterville, ON  \n",
            "4     Montreal, PQ / Chesterville, ON  \n",
            "...                               ...  \n",
            "1304   Antwerp, Belgium / Stanton, OH  \n",
            "1305   Antwerp, Belgium / Stanton, OH  \n",
            "1306   Antwerp, Belgium / Stanton, OH  \n",
            "1307   Antwerp, Belgium / Stanton, OH  \n",
            "1308   Antwerp, Belgium / Stanton, OH  \n",
            "\n",
            "[1309 rows x 7 columns]\n"
          ]
        },
        {
          "output_type": "stream",
          "name": "stderr",
          "text": [
            "/usr/local/lib/python3.9/dist-packages/pandas/core/frame.py:5176: SettingWithCopyWarning: \n",
            "A value is trying to be set on a copy of a slice from a DataFrame\n",
            "\n",
            "See the caveats in the documentation: https://pandas.pydata.org/pandas-docs/stable/user_guide/indexing.html#returning-a-view-versus-a-copy\n",
            "  return super().fillna(\n"
          ]
        }
      ]
    },
    {
      "cell_type": "markdown",
      "source": [
        "**Խնդիր 8.⭐⭐** Լրացնել ստորև ֆունկցիան այնպես, որ այն վերադարձնի ``titanic`` dataset-ի տողերի երկարությամբ pandas.Series, որտեղ ամեն տողի արժեք իրենից ներկայացնում է \n",
        "* այդ տողի ուղևորի անվան երկարության (բացատները չհաշված), pclass-ի և տարիքի արտադրյալը, եթե տարիքը առկա է և \n",
        "* հակառակ դեպքում ընդհանուր տվյալների մեջ ամենաերկար անուն ունեցող ուղևորի տարիքը\n",
        " "
      ],
      "metadata": {
        "id": "699W5CfqtVJc"
      }
    },
    {
      "cell_type": "code",
      "source": [
        "def problem8(data):\n",
        "  # Այստեղ կարող է լինել ձեր կոդը\n",
        "  lname = data['name'].str.replace(' ', '').str.len()\n",
        "  max_age = data.loc[lname.idxmax(), 'age']\n",
        "    \n",
        "  return pd.Series(lname * pd.to_numeric(data['pclass']) * data['age'].fillna(max_age))"
      ],
      "metadata": {
        "id": "MWfcZlErSYjD"
      },
      "execution_count": null,
      "outputs": []
    },
    {
      "cell_type": "code",
      "source": [
        "# Այստեղ կարող եք ստուգել ձեր լուծումը\n",
        "print(problem8(data=titanic))"
      ],
      "metadata": {
        "id": "R6hh-s2FSYoY",
        "colab": {
          "base_uri": "https://localhost:8080/"
        },
        "outputId": "2d8fa912-858b-4452-87e9-1feb9818b297"
      },
      "execution_count": null,
      "outputs": [
        {
          "output_type": "stream",
          "name": "stdout",
          "text": [
            "0        754.0000\n",
            "1         24.7509\n",
            "2         50.0000\n",
            "3        960.0000\n",
            "4       1000.0000\n",
            "          ...    \n",
            "1304     783.0000\n",
            "1305     969.0000\n",
            "1306    1828.5000\n",
            "1307    1377.0000\n",
            "1308    1392.0000\n",
            "Length: 1309, dtype: float64\n"
          ]
        }
      ]
    },
    {
      "cell_type": "markdown",
      "source": [
        "**Խնդիր 9.⭐⭐** problem9-ի արդյունքը պետք է լինի ամենաթանկ տոմսը գնած ուղևորների տարիքների թվաբանական միջինը։"
      ],
      "metadata": {
        "id": "eeuEb2wrSYtG"
      }
    },
    {
      "cell_type": "code",
      "source": [
        "def problem9(data):\n",
        "  # Այստեղ կարող է լինել ձեր կոդը\n",
        "    return data.loc[data.ticket==np.max(data.ticket)]['age'].mean()"
      ],
      "metadata": {
        "id": "oyKEyhOUtVNe"
      },
      "execution_count": null,
      "outputs": []
    },
    {
      "cell_type": "code",
      "source": [
        "# Այստեղ կարող եք ստուգել ձեր լուծումը\n",
        "print(problem9(data=titanic))"
      ],
      "metadata": {
        "id": "ZrhsQUMbSdCb",
        "colab": {
          "base_uri": "https://localhost:8080/"
        },
        "outputId": "beca2369-22ea-46db-de93-150ba684d459"
      },
      "execution_count": null,
      "outputs": [
        {
          "output_type": "stream",
          "name": "stdout",
          "text": [
            "53.0\n"
          ]
        }
      ]
    },
    {
      "cell_type": "markdown",
      "source": [
        "**Խնդիր 10.⭐⭐** Խնդիր 8-ում ստեղծած շարքը ավելացնել սկզբնական տվյալներին որպես առաջին սյուն \"Col1\" անունով։"
      ],
      "metadata": {
        "id": "Sbvf308jSdHQ"
      }
    },
    {
      "cell_type": "code",
      "source": [
        "def problem10(data):\n",
        "  # Այստեղ կարող է լինել ձեր կոդը\n",
        "  df=data\n",
        "  df.insert(loc=0, column='Col1', value=problem8(data))\n",
        "  return df"
      ],
      "metadata": {
        "id": "16BQRZI7byLO"
      },
      "execution_count": null,
      "outputs": []
    },
    {
      "cell_type": "code",
      "source": [
        "# Այստեղ կարող եք ստուգել ձեր լուծումը\n",
        "print(problem10(data=titanic))"
      ],
      "metadata": {
        "id": "BNx369ezbyPG",
        "colab": {
          "base_uri": "https://localhost:8080/"
        },
        "outputId": "1ce5c288-3e20-40f1-ed38-97681ac972ce"
      },
      "execution_count": null,
      "outputs": [
        {
          "output_type": "stream",
          "name": "stdout",
          "text": [
            "           Col1  pclass                                             name  \\\n",
            "0      754.0000     1.0                    Allen, Miss. Elisabeth Walton   \n",
            "1       24.7509     1.0                   Allison, Master. Hudson Trevor   \n",
            "2       50.0000     1.0                     Allison, Miss. Helen Loraine   \n",
            "3      960.0000     1.0             Allison, Mr. Hudson Joshua Creighton   \n",
            "4     1000.0000     1.0  Allison, Mrs. Hudson J C (Bessie Waldo Daniels)   \n",
            "...         ...     ...                                              ...   \n",
            "1304   783.0000     3.0                             Zabour, Miss. Hileni   \n",
            "1305   969.0000     3.0                            Zabour, Miss. Thamine   \n",
            "1306  1828.5000     3.0                        Zakarian, Mr. Mapriededer   \n",
            "1307  1377.0000     3.0                              Zakarian, Mr. Ortin   \n",
            "1308  1392.0000     3.0                               Zimmerman, Mr. Leo   \n",
            "\n",
            "         sex      age  sibsp  parch  ticket      fare    cabin embarked  boat  \\\n",
            "0     female  29.0000    0.0    0.0   24160  211.3375       B5        S     2   \n",
            "1       male   0.9167    1.0    2.0  113781  151.5500  C22 C26        S    11   \n",
            "2     female   2.0000    1.0    2.0  113781  151.5500  C22 C26        S  None   \n",
            "3       male  30.0000    1.0    2.0  113781  151.5500  C22 C26        S  None   \n",
            "4     female  25.0000    1.0    2.0  113781  151.5500  C22 C26        S  None   \n",
            "...      ...      ...    ...    ...     ...       ...      ...      ...   ...   \n",
            "1304  female  14.5000    1.0    0.0    2665   14.4542     None        C  None   \n",
            "1305  female      NaN    1.0    0.0    2665   14.4542     None        C  None   \n",
            "1306    male  26.5000    0.0    0.0    2656    7.2250     None        C  None   \n",
            "1307    male  27.0000    0.0    0.0    2670    7.2250     None        C  None   \n",
            "1308    male  29.0000    0.0    0.0  315082    7.8750     None        S  None   \n",
            "\n",
            "       body                        home.dest  survived  \n",
            "0      None                     St Louis, MO         1  \n",
            "1       NaN  Montreal, PQ / Chesterville, ON         1  \n",
            "2       NaN  Montreal, PQ / Chesterville, ON         0  \n",
            "3     135.0  Montreal, PQ / Chesterville, ON         0  \n",
            "4       NaN  Montreal, PQ / Chesterville, ON         0  \n",
            "...     ...                              ...       ...  \n",
            "1304  328.0                             None         0  \n",
            "1305    NaN                             None         0  \n",
            "1306  304.0                             None         0  \n",
            "1307    NaN                             None         0  \n",
            "1308    NaN                             None         0  \n",
            "\n",
            "[1309 rows x 15 columns]\n"
          ]
        }
      ]
    }
  ]
}