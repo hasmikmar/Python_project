{
  "nbformat": 4,
  "nbformat_minor": 0,
  "metadata": {
    "colab": {
      "provenance": []
    },
    "kernelspec": {
      "display_name": "Python 3",
      "language": "python",
      "name": "python3"
    },
    "language_info": {
      "codemirror_mode": {
        "name": "ipython",
        "version": 3
      },
      "file_extension": ".py",
      "mimetype": "text/x-python",
      "name": "python",
      "nbconvert_exporter": "python",
      "pygments_lexer": "ipython3",
      "version": "3.7.6"
    }
  },
  "cells": [
    {
      "cell_type": "markdown",
      "metadata": {
        "id": "ouC6teuHmxmQ"
      },
      "source": [
        "Ստորև գրված առաջադրանքները կատարելու վերջնաժամկետը **20.02.2022 20:02** է։ Առաջադրանքները կատարելուց հետո, պետք է \n",
        "\n",
        "1. ներբեռնեք այս ֆայլը ձեր համակարգիչ (`File` $\\to$ `Download .ipynb`)\n",
        "2. վերնագրին ավելացնեք ձեր անուն, ազգանունը լատինատառ, օրինակ՝ *HW1_Numpy_NshanPotikyan.ipynb* ֆորմատով\n",
        "3. ուղարկեք ֆայլը **nshan.potikyan@gmail.com** հասցեին` նամակի թեմա (subject) դաշտում գրելով **HA1**\n",
        "\n",
        "**Ուշադրություն**․ \n",
        "1. Վերոնշյալ պայմաններին չբավարարելու դեպքում ձեր աշխատանքը չի գնահատվի։\n",
        "2. Յուրաքանչյուր վարժության կոդը գրելուց հետո աշխատացրեք անմիջապես ներքևի վանդակը, որի մեջ հիմնականում գրված են **assert**֊ով հրամաններ։ \n",
        "  * Եթե այդ վանդակը աշխատացնելիս ստանում եք `AssertionError`, ապա ինչ֊որ բան սխալ եք արել \n",
        "  * եթե ոչինչ չի վերադարձվում, ապա *մեծ հավանականությամբ* ճիշտ եք լուծել վարժությունը։ \n",
        "3. եթե որևէ խնդրում պետք է կատարել գործողություն համաչափ զանգվածների հետ, ապա մուտքային զանգվածների չափերի անհամապատասխանությունների դեպքում վերադարցրեք(return) **\"DimensionError\"** տեքստը \n",
        "4.Ձեր աշխատանքը գնահատելիս առկա ստուգումներից բացի կարող է կատարվեն այլ ստուգումներ։\n",
        "5. Մեկ ⭐-ը մեկ միավոր է  \n",
        "\n"
      ]
    },
    {
      "cell_type": "markdown",
      "source": [
        "Numpy-ից բացի այլ գրադարանների օգտագործումն **արգելված է**։"
      ],
      "metadata": {
        "id": "RvDbr3RumR3y"
      }
    },
    {
      "cell_type": "code",
      "metadata": {
        "id": "3Vn0GtnroyLK"
      },
      "source": [
        "import numpy as np"
      ],
      "execution_count": 4,
      "outputs": []
    },
    {
      "cell_type": "markdown",
      "metadata": {
        "id": "fIp8Aopeo2Li"
      },
      "source": [
        "**Խնդիր 1.⭐** Ստեղծել 2 զանգվածների Էվկլիդյան հեռավորությունը հաշվող ``dist`` անունով ֆունկցիա։\n",
        "\n",
        "\n",
        "```\n",
        "a, b = np.array([1, 2]), np.array([1, 3])\n",
        "print(dist(a, b))\n",
        ">>1\n",
        "```\n"
      ]
    },
    {
      "cell_type": "code",
      "metadata": {
        "id": "sjKBosqwpDCA"
      },
      "source": [
        "def dist(a,b):\n",
        "    if len(a) == len(b):\n",
        "        return np.sqrt(sum((b-a)**2))\n",
        "    else:\n",
        "        return \"DimensionError\""
      ],
      "execution_count": null,
      "outputs": []
    },
    {
      "cell_type": "code",
      "metadata": {
        "id": "0y9bn1qa75-i"
      },
      "source": [
        "# Այս վանդակում փոփոխություններ կատարել չի կարելի\n",
        "a, b = np.array([1, 1]), np.array([1, 3])\n",
        "assert dist(a, b) == 2\n",
        "\n",
        "a, b = np.array([-10, 1.5]), np.array([0.9, 3.6])\n",
        "assert round(dist(a, b), 2) == 11.1\n",
        "\n",
        "a, b = np.array([1, 1, 1]), np.array([0, -1, 3])\n",
        "assert dist(a, b) == 3\n",
        "\n",
        "a, b = np.array([1, 0, -999]), np.array([1, 3])\n",
        "assert dist(a, b) == \"DimensionError\"\n",
        "\n",
        "a, b = np.array([10, -1, 9, 1, 2.98, -0.14]), np.array([0, -1, 3.14, np.pi, 99, np.e])\n",
        "assert round(dist(a, b), 2) == 96.78"
      ],
      "execution_count": null,
      "outputs": []
    },
    {
      "cell_type": "markdown",
      "metadata": {
        "id": "HLs6-36QrdHR"
      },
      "source": [
        "**Խնդիր 2.⭐** Ստեղծել ``rescale`` անունով ֆունկցիա, որը կնորմավորի տրված զանգվածն այնպես, որ արժեքները լինեն 0-ից 1 միջակայքում։\n",
        "\n",
        "[Հուշում](https://en.wikipedia.org/wiki/Feature_scaling#Rescaling_(min-max_normalization))\n",
        "\n",
        "```\n",
        "a = np.array([1,2,3,4])\n",
        "print(rescale(a))\n",
        ">>[0, 0.3333333, 0.66666667, 1]\n",
        "```\n",
        "\n"
      ]
    },
    {
      "cell_type": "code",
      "metadata": {
        "id": "K0r9MmixsJNt"
      },
      "source": [
        "def rescale(a):\n",
        "    return  (a-np.min(a))/(np.max(a)-np.min(a))\n",
        "  # Այստեղ կարող է լինել ձեր կոդը"
      ],
      "execution_count": null,
      "outputs": []
    },
    {
      "cell_type": "code",
      "metadata": {
        "id": "wWqXPufKP6Y4"
      },
      "source": [
        "# Այս վանդակում փոփոխություններ կատարել չի կարելի\n",
        "assert np.all(rescale(np.array([1, 2, 3, 4])) == [0, 1/3, 2/3, 1])\n",
        "assert np.all(rescale(np.array([0, 1])) == [0, 1])\n",
        "assert np.all(rescale(np.array([0, 10])) == [0, 1])\n",
        "assert np.all(rescale(np.array([1, 2, 4])) == [0, 1/3, 1])"
      ],
      "execution_count": null,
      "outputs": []
    },
    {
      "cell_type": "markdown",
      "metadata": {
        "id": "Kgu2Tjnasoir"
      },
      "source": [
        "**Խնդիր 3.⭐** Ստեղծել ``find`` անունով ֆունկցիա, որը կվերադարձնի միաչափ numpy զանգվածի բացակայող արժեքների դիրքերը որպես լիստ:\n",
        "\n",
        "\n",
        "```\n",
        "a = np.array([np.nan, 1, 2])\n",
        "print(find(a))\n",
        ">>[0]\n",
        "```\n",
        "\n"
      ]
    },
    {
      "cell_type": "code",
      "metadata": {
        "id": "-l_-9LqpwC0I"
      },
      "source": [
        "def find(a):\n",
        "  l = []\n",
        "  for i in range(len(a)):\n",
        "    if np.isnan(a[i]):\n",
        "      l.append(i)\n",
        "  return l\n",
        "  # Այստեղ կարող է լինել ձեր կոդը"
      ],
      "execution_count": null,
      "outputs": []
    },
    {
      "cell_type": "code",
      "source": [
        "def find(a):\n",
        "  return np.where( np.isnan(a))[0].tolist()"
      ],
      "metadata": {
        "id": "0RLWLvqw8cqw"
      },
      "execution_count": null,
      "outputs": []
    },
    {
      "cell_type": "code",
      "metadata": {
        "id": "Jesp9pcDP-a-"
      },
      "source": [
        "# Այս վանդակում փոփոխություններ կատարել չի կարելի\n",
        "assert np.all(find(np.array([np.nan, 1, 2, np.nan])) == [0, 3])\n",
        "assert np.all(find(np.array([np.nan, np.nan])) == [0, 1])\n",
        "assert np.all(find(np.array([np.e, 1, 2, 99])) == [])\n",
        "assert np.all(find(np.array([np.e])) == [])\n",
        "assert np.all(find(np.array([])) == [])"
      ],
      "execution_count": null,
      "outputs": []
    },
    {
      "cell_type": "markdown",
      "metadata": {
        "id": "Sun6i3oM81VS"
      },
      "source": [
        "**Խնդիր 4.⭐⭐** Սահմանել ``fill`` անունով ֆունցկիա, որը որպես մուտքային փոփոխականներ կվերցնի \n",
        "* բացակայող տարրեր ունեցող $m \\times n$ չափի 2D numpy զանգված ``a``  և \n",
        "* տեքստային փոփոխական ``mode`` $\\in$ {\"mean\",\"min\",\"max\"}\n",
        "\n",
        "և կվերադարձնի ``a`` զանգվածն այնպես, որ բացակայող տարրերի փոխարեն լինեն համապատասխան սյան {միջինը, մինիմումը, մաքսիմումը} ըստ տրված 'mode' փոփոխականի։\n",
        "\n",
        "```\n",
        "a = np.array([[np.nan, 200, 10],\n",
        "              [2, 110, np.nan],\n",
        "              [0, 120, 11],\n",
        "              [0, 400, np.nan],\n",
        "              [1, np.nan, 9]])\n",
        "mode = \"mean\"\n",
        "print(fill(a, mode))\n",
        ">>[[  0.75 200.    10.  ]\n",
        " [  2.   110.    10.  ]\n",
        " [  0.   120.    11.  ]\n",
        " [  0.   400.    10.  ]\n",
        " [  1.   207.5    9.  ]]\n",
        "```\n",
        "\n"
      ]
    },
    {
      "cell_type": "code",
      "metadata": {
        "id": "tN_T-Agz-AiC"
      },
      "source": [
        "def fill(a, mode):\n",
        "  # Այստեղ կարող է լինել ձեր կոդը\n",
        "  a_filled = np.copy(a)\n",
        "  for j in range(a.shape[1]):\n",
        "      missing_values = np.isnan(a[:,j])\n",
        "      if mode == 'mean':\n",
        "         a_filled[missing_values,j] = np.nanmean(a[:,j])\n",
        "      elif mode == 'min':\n",
        "           a_filled[missing_values,j] = np.nanmin(a[:,j])\n",
        "      elif mode == 'max':\n",
        "           a_filled[missing_values,j] = np.nanmax(a[:,j])\n",
        "  return a_filled"
      ],
      "execution_count": null,
      "outputs": []
    },
    {
      "cell_type": "code",
      "metadata": {
        "id": "YtIl7k8ZRNMV"
      },
      "source": [
        "# Այս վանդակում փոփոխություններ կատարել չի կարելի\n",
        "a = np.array([[np.nan, 200, 10],\n",
        "              [2, 110, np.nan],\n",
        "              [0, 120, 11],\n",
        "              [0, 400, np.nan],\n",
        "              [1, np.nan, 9]])\n",
        "\n",
        "assert np.all(fill(a, \"mean\") ==\n",
        "              [[0.75, 200.,  10.],\n",
        "               [2., 110.,  10.],\n",
        "               [0., 120.,  11.],\n",
        "               [0., 400.,  10.],\n",
        "               [1., 207.5,   9.]])\n",
        "\n",
        "assert np.all(fill(a, \"min\") ==\n",
        "              [[0., 200.,  10.],\n",
        "               [2., 110.,   9.],\n",
        "               [0., 120.,  11.],\n",
        "               [0., 400.,   9.],\n",
        "               [1., 110.,   9.]])\n",
        "\n",
        "assert np.all(fill(a, \"max\") ==\n",
        "              [[2., 200.,  10.],\n",
        "               [2., 110.,  11.],\n",
        "               [0., 120.,  11.],\n",
        "               [0., 400.,  11.],\n",
        "               [1., 400.,   9.]])"
      ],
      "execution_count": null,
      "outputs": []
    },
    {
      "cell_type": "markdown",
      "source": [
        "**Խնդիր 5.⭐⭐** Սահմանել ``encode`` անունով ֆունցկիա, որը որպես մուտքային փոփոխական կվերցնի միաչափ ``a`` զանգված\n",
        "և կվերադարձնի այնպիսի երկչափ զանգված, որտեղ սյուները համապատասխանում են ``a``-ի յուրահատուկ (unique) տարրերին, իսկ տողերի քանակը՝ ``a``-ի բոլոր տարրերին։ Վերադարձվելիք զանգվածը պետք է պարունակի 1-եր այն բոլոր $ij$ տեղերում, որտեղ $a[i] = unique(a)[j]$, իսկ մնացած բոլոր տեղերում պետք է լինեն 0-ներ: Օրինակ՝\n",
        "\n",
        "```\n",
        "a = np.array([1, 1, 2, 3, 2, 4])\n",
        "# unique(a) -> np.array([1, 2, 3, 4])\n",
        "print(encode(a))\n",
        ">>[[1, 0, 0, 0],\n",
        "  [1, 0, 0, 0],\n",
        "  [0, 1, 0, 0],\n",
        "  [0, 0, 1, 0],\n",
        "  [0, 1, 0, 0],\n",
        "  [0, 0, 0, 1]]\n",
        "```\n",
        "\n",
        "\n"
      ],
      "metadata": {
        "id": "LBQYA4Old3Q3"
      }
    },
    {
      "cell_type": "code",
      "source": [
        "def encode(a):\n",
        "  # Այստեղ կարող է լինել ձեր կոդը\n",
        "   unique_elements = np.unique(a)\n",
        "   encoded_matrix = [[int(i == j) for j in unique_elements] for i in a]\n",
        "   return encoded_matrix"
      ],
      "metadata": {
        "id": "vY7skpxDd3VM"
      },
      "execution_count": null,
      "outputs": []
    },
    {
      "cell_type": "code",
      "source": [
        "# Այս վանդակում փոփոխություններ կատարել չի կարելի\n",
        "assert np.all(encode(np.array([0, 0, 2, 3, 2, 4])) ==\n",
        "              [[1, 0, 0, 0],\n",
        "               [1, 0, 0, 0],\n",
        "               [0, 1, 0, 0],\n",
        "               [0, 0, 1, 0],\n",
        "               [0, 1, 0, 0],\n",
        "               [0, 0, 0, 1]])\n",
        "\n",
        "assert np.all(encode(np.array([-np.pi, 9])) ==\n",
        "              [[1, 0],\n",
        "               [0, 1]])\n",
        "\n",
        "assert np.all(encode(np.array([-1, 1, 9, 10])) ==\n",
        "              [[1, 0, 0, 0],\n",
        "               [0, 1, 0, 0],\n",
        "               [0, 0, 1, 0],\n",
        "               [0, 0, 0, 1]])\n",
        "\n",
        "assert np.all(encode(np.array([np.sqrt(2), np.sqrt(2), np.sqrt(2)])) ==\n",
        "              [[1],\n",
        "               [1],\n",
        "               [1]])"
      ],
      "metadata": {
        "id": "oLMq7mQLd3Zt"
      },
      "execution_count": null,
      "outputs": []
    },
    {
      "cell_type": "markdown",
      "source": [
        "**Խնդիր 6.⭐⭐** Սահմանել ``pad`` անունով ֆունցկիա, որը որպես մուտքային փոփոխական կվերցնի \n",
        "\n",
        "* երկչափ ``a`` զանգված\n",
        "* n և m բնական թվեր \n",
        "\n",
        "և կվերադարձնի այնպիսի երկչափ զանգված, որտեղ a-ն վերցված է 0-ներով լի շրջանակի մեջ․ վերևից և ներքևից $n$ հատ հավելյալ տող, իսկ աջից և ձախից $m$ հատ հավելյալ սյուն։\n",
        "\n",
        "```\n",
        "a = np.array([[1, 1], [1, 1]])\n",
        "n = 1\n",
        "m = 2\n",
        "print(pad(a, n, m))\n",
        ">>[[0, 0, 0, 0, 0, 0], \n",
        "  [0, 0, 1, 1, 0, 0],\n",
        "  [0, 0, 1, 1, 0, 0],\n",
        "  [0, 0, 0, 0, 0, 0]]\n",
        "```\n",
        "\n",
        "\n",
        "\n"
      ],
      "metadata": {
        "id": "jtF2WLJid3dt"
      }
    },
    {
      "cell_type": "code",
      "source": [
        "def pad(a, n, m):\n",
        "  # Այստեղ կարող է լինել ձեր կոդը\n",
        "   rows, cols = len(a), len(a[0])\n",
        "   matrix = np.zeros((cols+2*n, rows+2*m))\n",
        "   for i in range(rows):\n",
        "     for j in range(cols):\n",
        "       matrix[i+n][j+m] = a[i][j]\n",
        "   return matrix"
      ],
      "metadata": {
        "id": "Y3IlC8wijbrw"
      },
      "execution_count": null,
      "outputs": []
    },
    {
      "cell_type": "code",
      "source": [
        "# Այս վանդակում փոփոխություններ կատարել չի կարելի\n",
        "assert np.all(pad(np.array([[1, 1], [1, 1]]), 1, 2) ==\n",
        "              [[0, 0, 0, 0, 0, 0],\n",
        "               [0, 0, 1, 1, 0, 0],\n",
        "               [0, 0, 1, 1, 0, 0],\n",
        "               [0, 0, 0, 0, 0, 0]])\n",
        "\n",
        "assert np.all(pad(np.array([[1, 2], [1, 1]]), 0, 2) ==\n",
        "              [[0, 0, 1, 2, 0, 0],\n",
        "               [0, 0, 1, 1, 0, 0]])\n",
        "\n",
        "assert np.all(pad(np.array([[9]]), 2, 2) ==\n",
        "              [[0, 0, 0, 0, 0],\n",
        "               [0, 0, 0, 0, 0],\n",
        "               [0, 0, 9, 0, 0],\n",
        "               [0, 0, 0, 0, 0],\n",
        "               [0, 0, 0, 0, 0]])"
      ],
      "metadata": {
        "id": "b_56mu9ajbwH"
      },
      "execution_count": null,
      "outputs": []
    },
    {
      "cell_type": "markdown",
      "source": [
        "**Խնդիր 7.⭐⭐** Սահմանել ``calculate`` անունով ֆունկցիա, որը որպես մուտքային փոփոխական կվերցնի \n",
        "երկչափ ``A`` ($n \\times n$) և միաչափ ``b`` զանգվածներ \n",
        "և կվերադարձնի հետևյալ արտահայտության արժեքը\n",
        "$${1\\over2}\\mathbf{b}^TA^{-1}\\mathbf{b}\\cdot\\prod_{i}\\lambda_i,$$ \n",
        "որտեղ $\\lambda_i$֊երը A-ի սեփական արժեքներն են։ Եթե A մատրիցի հակադարձը գոյություն չունի, ապա հաշվարկի մեջ օգտագործեք A-ի [pseudo inverse](https://inst.eecs.berkeley.edu/~ee127/sp21/livebook/def_pseudo_inv.html)֊ը։\n",
        "\n",
        "```\n",
        "a = np.array([[1, 1, 2],\n",
        "              [0, 1, 3],\n",
        "              [1, 3, 0]])\n",
        "b = np.array([1, 0, 1])\n",
        "print(calculate(a, b))\n",
        ">>-4.000000000000002\n",
        "```\n",
        "\n",
        "\n",
        "\n"
      ],
      "metadata": {
        "id": "2iS_tpzdtHM_"
      }
    },
    {
      "cell_type": "code",
      "source": [
        "def calculate(A, b):\n",
        "    # Այստեղ կարող է լինել ձեր կոդը\n",
        "    if A.shape[0] != A.shape[1] or A.shape[0] != b.shape[0]:\n",
        "        return \"DimensionError\"\n",
        "    detA = np.linalg.det(A)\n",
        "    if detA != 0:\n",
        "        A_inv = np.linalg.inv(A)\n",
        "    else:\n",
        "        A_inv = np.linalg.pinv(A)\n",
        "    return 0.5 * np.dot(np.dot(b.T, A_inv), b) * detA"
      ],
      "metadata": {
        "id": "eke2QDQ8OmeJ"
      },
      "execution_count": null,
      "outputs": []
    },
    {
      "cell_type": "code",
      "source": [
        "# Այս վանդակում փոփոխություններ կատարել չի կարելի\n",
        "a = np.array([[1, 1, 2],\n",
        "              [0, 1, 3],\n",
        "              [1, 3, 0]])\n",
        "b = np.array([1, 0, 1])\n",
        "assert round(calculate(a, b)) == -4\n",
        "\n",
        "a = np.array([[1, 1, 2],\n",
        "              [0, 1, 3],\n",
        "              [1, 3, 0]])\n",
        "b = np.array([1, 0, 1, 1])\n",
        "assert calculate(a, b) == \"DimensionError\"\n",
        "\n",
        "a = np.array([[1, 1, 2],\n",
        "              [1, 1, 3],\n",
        "              [3, 3, 0]])\n",
        "b = np.array([1, 0, 1])\n",
        "assert round(calculate(a, b)) == 0\n",
        "\n",
        "a = np.array([[10, 1],\n",
        "              [-1, 1]])\n",
        "b = np.array([1, 1])\n",
        "assert round(calculate(a, b), 2) == 5.5"
      ],
      "metadata": {
        "id": "XEq5jdgCtGzl"
      },
      "execution_count": null,
      "outputs": []
    },
    {
      "cell_type": "markdown",
      "source": [
        "**Խնդիր 8.⭐⭐** Սահմանել ``is_in_range`` անունով ֆունկցիա, որը որպես մուտքային փոփոխական կվերցնի \n",
        "\n",
        "* երկչափ ``a`` զանգված և \n",
        "* [start, end) ձևի միջակայք ներկայացնող ``interval`` անունով tuple\n",
        "\n",
        "և կվերադարձնի այն տողերը, որոնց տարրերի գումարը ընկած է [start, end) միջակայքի մեջ։\n",
        "\n",
        "```\n",
        "a = np.array([[1, 1, 2],\n",
        "              [0, 108, 3],\n",
        "              [1, 3, 65],\n",
        "              [50, 35, 5],\n",
        "              [5, 83, 110],\n",
        "              [98, 99, 10],\n",
        "              [8, 9, 103],\n",
        "              [9, 23, 15]])\n",
        "print(is_in_range(a, (100, 200)))\n",
        ">[[0, 108, 3],\n",
        "  [5, 83, 110],\n",
        "  [8, 9, 103]]\n",
        "```\n",
        "\n",
        "\n"
      ],
      "metadata": {
        "id": "ERFO68amADLZ"
      }
    },
    {
      "cell_type": "code",
      "source": [
        "def is_in_range(a, interval):\n",
        "  # Այստեղ կարող է լինել ձեր կոդը\n",
        "  return a[(np.sum(a, axis=1) >= interval[0])& (np.sum(a, axis=1) < interval[1])]"
      ],
      "metadata": {
        "id": "inORuZkgAC9p"
      },
      "execution_count": null,
      "outputs": []
    },
    {
      "cell_type": "code",
      "source": [
        "# Do not modify this cell\n",
        "a = np.array([[1, 1, 2],\n",
        "              [0, 108, 3],\n",
        "              [1, 3, 65],\n",
        "              [50, 35, 5],\n",
        "              [5, 83, 110],\n",
        "              [98, 99, 10],\n",
        "              [8, 9, 103],\n",
        "              [9, 23, 15]])\n",
        "assert np.all(is_in_range(a, (100, 200)) ==\n",
        "              [[0, 108,   3],\n",
        "               [5,  83, 110],\n",
        "               [8,   9, 103]])\n",
        "\n",
        "a = np.array([[1, 1, 2],\n",
        "              [0, -108, 3],\n",
        "              [1, 3, 65],\n",
        "              [50, 35, 5]])\n",
        "assert len(is_in_range(a, (100, 200))) == 0"
      ],
      "metadata": {
        "id": "RsgxG5YvACkR"
      },
      "execution_count": null,
      "outputs": []
    },
    {
      "cell_type": "markdown",
      "source": [
        "**Խնդիր 9.⭐⭐⭐** Սահմանել ``euclidean_distance`` անունով ֆունկցիա, որը որպես մուտքային փոփոխական կվերցնի \n",
        "երկչափ ``a`` և միաչափ ``b`` զանգվածներ\n",
        "և կվերադարձնի այնպիսի միաչափ զանգված, որը պարունակում է a-ի տող֊վեկտորների և b-ի միջև եղած էվկլիդյան հեռավորությունները։ Խնդիրը լուծել առանց բացահայտ ցիկլերի (broadcasting-ի միջոցով)։\n",
        "\n",
        "```\n",
        "a = np.array([[1, 1],\n",
        "              [0, 1],\n",
        "              [1, 3],\n",
        "              [4, 5]])\n",
        "b = np.array([1, 1])\n",
        "print(euclidean_distance(a, b))\n",
        ">>[0,1,2,5]\n",
        "```\n",
        "\n",
        "\n",
        "\n"
      ],
      "metadata": {
        "id": "QuooEe4sjb0n"
      }
    },
    {
      "cell_type": "code",
      "source": [
        "def euclidean_distance(a, b):\n",
        "  # Այստեղ կարող է լինել ձեր կոդը\n",
        "  if a.shape[1] !=b.shape[0]:\n",
        "    return \"DimensionError\"\n",
        "  else:\n",
        "    squared_distances = np.sum((a - b) ** 2, axis=1)\n",
        "    distances = np.sqrt(squared_distances)\n",
        "    return distances"
      ],
      "metadata": {
        "id": "uM-y6rUwjb5W"
      },
      "execution_count": null,
      "outputs": []
    },
    {
      "cell_type": "code",
      "source": [
        "# Այս վանդակում փոփոխություններ կատարել չի կարելի\n",
        "a, b = np.array([[1, 1],\n",
        "                 [0, 1],\n",
        "                 [1, 3],\n",
        "                 [4, 5]]), np.array([1, 1])\n",
        "assert np.all(euclidean_distance(a, b) == [0., 1., 2., 5.])\n",
        "\n",
        "a, b = np.array([[np.e, 0, 1.5],\n",
        "                 [0, 1, -10]]), np.array([1, 3.14, 0])\n",
        "assert np.all(np.round(euclidean_distance(a, b)) == [4, 10])\n",
        "\n",
        "a, b = np.array([[1, 1],\n",
        "                 [0, 1]]), np.array([1, 1, 1])\n",
        "assert euclidean_distance(a, b) == \"DimensionError\""
      ],
      "metadata": {
        "id": "l4nMdI1djb_C"
      },
      "execution_count": null,
      "outputs": []
    },
    {
      "cell_type": "markdown",
      "source": [
        "**Խնդիր 10.⭐⭐⭐** Սահմանել ``convolution`` անունով ֆունկցիա, որը որպես մուտքային փոփոխական կվերցնի \n",
        "\n",
        "* երկչափ ``a`` և ``b`` զանգվածներ $m \\times n$ և $k \\times k$ չափերի ($k  \\leq n$, $k \\leq m$)\n",
        "* ``f`` ֆունկցիա\n",
        "\n",
        "և կվերադարձնի այնպիսի երկչափ զանգված, որը ստացվում է հետևյալ կերպ (տե՛ս շարժապատկերը)․\n",
        "\n",
        "1. b (մուգ կապույտ) զանգվածը կիրառել (ըստ տարրերի բազմապատկում և գումարում) a-ի (բաց կապույտ) վրա ըստ սյուների և տողերի\n",
        "2. ստացված արժեքներով կազմել երկչափ զանգված (սպիտակ)\n",
        "3. 2-րդ քայլում ստացված երկչափ զանգվածի արծեքների վրա կիրառել ``f`` ֆունկցիան\n",
        "\n",
        "![ConvUrl](https://miro.medium.com/max/2340/1*Fw-ehcNBR9byHtho-Rxbtw.gif \"convolution\")\n",
        "\n",
        "```\n",
        "a = np.array([[1, 1, 2],\n",
        "              [0, 1, 3],\n",
        "              [1, 3, 0],\n",
        "              [4, 5, 2]])\n",
        "b = np.array([[1, 0],\n",
        "              [0, 1]])\n",
        "\n",
        "f = lambda x: x**2\n",
        "print(convolution(a, b, f))\n",
        ">>[[4, 16],\n",
        "  [9, 1],\n",
        "  [36, 25]]\n",
        "```\n",
        "\n",
        "\n",
        "\n"
      ],
      "metadata": {
        "id": "z-d-LVfQooN7"
      }
    },
    {
      "cell_type": "code",
      "source": [
        "def convolution(a, b, f):\n",
        "   # Այստեղ կարող է լինել ձեր կոդը\n",
        "    if (b.shape[0] != b.shape[1]) | (b.shape[1] > a.shape[0]) | (b.shape[1] > a.shape[1]):\n",
        "        return \"DimensionError\"\n",
        "    m = a.shape[0]-b.shape[0]+1 \n",
        "    n = a.shape[1]-b.shape[1]+1\n",
        "    conv = np.zeros((m, n))\n",
        "    for i in range(m):\n",
        "        for j in range(n):\n",
        "            sub = a[i:i+b.shape[0], j:j+b.shape[1]]\n",
        "            conv[i,j] = np.sum(sub * b)\n",
        "    return np.vectorize(f)(conv)\n"
      ],
      "metadata": {
        "id": "Or1LRx3kUpV6"
      },
      "execution_count": 19,
      "outputs": []
    },
    {
      "cell_type": "code",
      "source": [
        "# Այս վանդակում փոփոխություններ կատարել չի կարելի\n",
        "a = np.array([[1, 1, 2],\n",
        "              [0, 1, 3],\n",
        "              [1, 3, 0]])\n",
        "b = np.array([[1, 0],\n",
        "              [0, 1]])\n",
        "f = lambda x: x**2\n",
        "assert np.all(convolution(a, b, f) ==\n",
        "              [[4., 16.],\n",
        "               [9.,  1.]])\n",
        "\n",
        "a = np.array([[1, 1, 2],\n",
        "              [0, 1, 3],\n",
        "              [1, 3, 0],\n",
        "              [-10, -3, 0]])\n",
        "b = np.arange(9).reshape(3, 3)\n",
        "f = lambda x:0 if x<0 else x\n",
        "assert np.all(convolution(a, b, f) ==\n",
        "              [[51.],\n",
        "               [0.]])\n",
        "\n",
        "b = np.arange(6).reshape(2, 3)\n",
        "assert convolution(a, b, f) == \"DimensionError\""
      ],
      "metadata": {
        "id": "5Q6P8IeSooWQ"
      },
      "execution_count": 20,
      "outputs": []
    }
  ]
}