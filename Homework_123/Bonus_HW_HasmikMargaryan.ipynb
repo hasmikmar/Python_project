{
  "nbformat": 4,
  "nbformat_minor": 0,
  "metadata": {
    "colab": {
      "provenance": []
    },
    "kernelspec": {
      "name": "python3",
      "display_name": "Python 3"
    },
    "language_info": {
      "name": "python"
    }
  },
  "cells": [
    {
      "cell_type": "markdown",
      "metadata": {
        "id": "ouC6teuHmxmQ"
      },
      "source": [
        "Ստորև գրված առաջադրանքը կատարելու վերջնաժամկետը **13.05.2023 23:59** է։ Առաջադրանքը կատարելուց հետո, պետք է \n",
        "\n",
        "1. ներբեռնեք այս ֆայլը ձեր համակարգիչ (`File` $\\to$ `Download .ipynb`)\n",
        "2. վերնագրին ավելացնեք ձեր անուն, ազգանունը լատինատառ, օրինակ՝ *Bonus_HW_NshanPotikyan.ipynb* ֆորմատով\n",
        "3. ուղարկեք ֆայլը **nshan.potikyan@gmail.com** հասցեին` նամակի թեմա (subject) դաշտում գրելով **Bonus**\n",
        "\n",
        "**Ուշադրություն**․ \n",
        "1. Վերոնշյալ պայմաններին չբավարարելու դեպքում ձեր աշխատանքը չի գնահատվի։\n",
        "2. **numpy**, **pandas**, **sklearn** գրադարաններից բացի այլ գրադարաններից չի՛ կարելի օգտվել \n",
        "3. Կոդի համար նախատեսված հավելյալ վանդակներ ստեղծել, ինչպես նաև եղած վանդակների հերթականությունը փոխել չի՛ կարելի  \n",
        "4. Կրկնօրինակ լուծումների համար կստանաք 0 միավոր։\n"
      ]
    },
    {
      "cell_type": "markdown",
      "source": [
        "**Հավելյալ (Ճիշտ լուծելու դեպքում կստանաք 1/20 միավոր)** \n",
        "\n",
        "Դիցուք՝ ցանկանում ենք կառուցել այնպիսի դասակարգիչ (classifier), որը հնարավորություն կտա յուրաքանչյուր ուսանողի համար գնահատել նրա կողմից ինչ֊որ հարցի ճիշտ պատասխանելու հավանականությունը՝ հաշվի առնելով այդ ուսանողի տվյալները և հարցի բարդությունը։ \n",
        "\n",
        "Ուսանողների տվյալներից օգտագործվելու է նրա \n",
        "* սեռը (gender),\n",
        "* նախորդ հարցերին պատասխանելու միջին ժամանակը (avg_time), \n",
        "* նախորդ հարցերին ճիշտ պատասխանելու միջին համամասնությունը (avg_correct) \n",
        "\n",
        "Որպես հարցի բարդության նկարագիր, կօգտագործենք\n",
        "\n",
        "* հարցին հատկացված ժամանակը (total_time)\n",
        "* հարցի բովանդակության մեջ եղած բառերի քանակը (question)\n",
        "* հարցի պատասխանի 4 տարբերակների մեջ առկա բառերի քանակների գումարը (answer1,2,3,4)\n",
        "\n",
        "Որպես պիտակ (label) կօգտագործենք correct սյան տվյալները:\n",
        "\n",
        "Պահանջվում է լրացնել function6-ը այնպես, որ այն իր մեջ կառուցի sklearn.pipeline.Pipeline, հետևյալ փուլերով․\n",
        "* gender սյան վրա կիրառվող sklearn.preprocessing.OrdinalEncoder\n",
        "* question սյան վրա կիրառվող sklearn.preprocessing.FunctionTransformer` այնպիսի ֆունկցիայով, որով կվերադարձվի բառերի քանակը անտեսելով տառերից բացի այլ նիշերը [[հուշում]](https://scikit-learn.org/stable/modules/generated/sklearn.feature_extraction.text.CountVectorizer.html#sklearn.feature_extraction.text.CountVectorizer)\n",
        "* answer1,2,3,4 սյուների վրա կիրառվող sklearn.preprocessing.FunctionTransformer` այնպիսի ֆունկցիայով, որով կվերադարձվի 4 տարբերակների մեջ եղած բառերի քանակի (հաշվել նախորդ կետի նման) գումարը\n",
        "* այնուհետև մուտքային տվյալների (X) բոլոր սյուների վրա կիրառել sklearn.preprocessing.StandardScaler\n",
        "* և որպես դասակարգիչ  օգտագործել sklearn.neighbors․KNeighborsClassifier-ը k=7 արժեքով\n",
        "\n",
        "Առանձին սյուների վրա ձևափոխություն անելու համար կարող եք օգտագործել [սա](https://scikit-learn.org/stable/modules/generated/sklearn.compose.ColumnTransformer.html#sklearn-compose-columntransformer)։ Պահանջվում է վերադարձնել train (``hw4_bonus_train.csv``) բազմության վրա ուսուցանված pipeline-ի օբյեկտը և test (``hw4_bonus_test.csv``) բազմության վրա կանխատեսումների ճշգրտությունը (կարելի է օգտագործել score մեթոդը)։\n",
        "\n"
      ],
      "metadata": {
        "id": "awSzPs85woW4"
      }
    },
    {
      "cell_type": "markdown",
      "source": [
        "**Ներբեռնել տվյալները** 🔽"
      ],
      "metadata": {
        "id": "IflWymnwzpeb"
      }
    },
    {
      "cell_type": "code",
      "source": [
        "!wget https://raw.githubusercontent.com/NshanPotikyan/Dasa1Doom/master/files/hw4_bonus.zip\n",
        "!unzip hw4_bonus.zip"
      ],
      "metadata": {
        "colab": {
          "base_uri": "https://localhost:8080/"
        },
        "id": "MFr62Agfx83f",
        "outputId": "747ec6f3-f09d-4ec2-eefa-b8a8b496824a"
      },
      "execution_count": 2,
      "outputs": [
        {
          "output_type": "stream",
          "name": "stdout",
          "text": [
            "--2023-05-13 11:22:17--  https://raw.githubusercontent.com/NshanPotikyan/Dasa1Doom/master/files/hw4_bonus.zip\n",
            "Resolving raw.githubusercontent.com (raw.githubusercontent.com)... 185.199.111.133, 185.199.108.133, 185.199.110.133, ...\n",
            "Connecting to raw.githubusercontent.com (raw.githubusercontent.com)|185.199.111.133|:443... connected.\n",
            "HTTP request sent, awaiting response... 200 OK\n",
            "Length: 34872 (34K) [application/zip]\n",
            "Saving to: ‘hw4_bonus.zip’\n",
            "\n",
            "hw4_bonus.zip       100%[===================>]  34.05K  --.-KB/s    in 0.002s  \n",
            "\n",
            "2023-05-13 11:22:17 (17.2 MB/s) - ‘hw4_bonus.zip’ saved [34872/34872]\n",
            "\n",
            "Archive:  hw4_bonus.zip\n",
            "  inflating: hw4_bonus_train.csv     \n",
            "  inflating: hw4_bonus_test.csv      \n"
          ]
        }
      ]
    },
    {
      "cell_type": "code",
      "source": [
        "import pandas as pd\n",
        "import numpy as np\n",
        "from sklearn.pipeline import Pipeline\n",
        "from sklearn.preprocessing import OrdinalEncoder, FunctionTransformer, StandardScaler\n",
        "from sklearn.compose import ColumnTransformer\n",
        "from sklearn.neighbors import KNeighborsClassifier\n",
        "from sklearn.feature_extraction.text import CountVectorizer\n",
        "\n",
        "def count_words(D):\n",
        "  X = D.apply(' '.join,axis=1)\n",
        "  vectorizer = CountVectorizer()\n",
        "  X = vectorizer.fit_transform(X)\n",
        "  return np.asarray(X.sum(axis=1).reshape(-1, 1))\n",
        "\n",
        "\n",
        "def function(train,test):\n",
        "\n",
        "  features = ['gender', 'avg_time', 'avg_correct', 'total_time', 'question', 'answer1', 'answer2', 'answer3', 'answer4']\n",
        "  gender_encoder = ('gender_encoder', OrdinalEncoder(), ['gender'])\n",
        "  question_word_count = ('question_word_count', FunctionTransformer(lambda X: count_words(X[['question']])), ['question'])\n",
        "  answer_word_count = ('answer_word_count', FunctionTransformer(lambda X: count_words(X[['answer1', 'answer2', 'answer3', 'answer4']])),['answer1', 'answer2', 'answer3', 'answer4'])\n",
        "\n",
        "  preprocessor = ColumnTransformer(transformers=[\n",
        "      gender_encoder,\n",
        "      question_word_count,\n",
        "      answer_word_count\n",
        "  ], remainder='passthrough')\n",
        "  \n",
        "  pipeline = Pipeline([\n",
        "      ('preprocessor', preprocessor),\n",
        "      ('scaler', StandardScaler()),\n",
        "      ('clf', KNeighborsClassifier(n_neighbors=7))\n",
        "  ])\n",
        "\n",
        "  X_train = train[features]\n",
        "  y_train = train['correct']\n",
        "  pipeline.fit(X_train, y_train)\n",
        "  \n",
        "  X_test = test[features]\n",
        "  y_test = test['correct']\n",
        "  accuracy_score = pipeline.score(X_test, y_test)\n",
        "\n",
        "  return pipeline, accuracy_score"
      ],
      "metadata": {
        "id": "_3wpZ384__0F"
      },
      "execution_count": 94,
      "outputs": []
    },
    {
      "cell_type": "code",
      "source": [
        "# այստեղ կարող եք ստուգել ձեր լուծումը\n",
        "train = pd.read_csv('hw4_bonus_train.csv')\n",
        "test = pd.read_csv('hw4_bonus_test.csv')\n",
        "pipeline,accuracy = function(train,test)\n",
        "print('Prediction Accuracy:', accuracy)\n",
        "print('Pipeline: ',pipeline)"
      ],
      "metadata": {
        "id": "w3trqv6njTpD"
      },
      "execution_count": null,
      "outputs": []
    }
  ]
}